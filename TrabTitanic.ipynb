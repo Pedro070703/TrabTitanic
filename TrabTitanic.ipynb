{
  "nbformat": 4,
  "nbformat_minor": 0,
  "metadata": {
    "colab": {
      "provenance": [],
      "authorship_tag": "ABX9TyMiRA7gA43c/zwEvtPwlnO8",
      "include_colab_link": true
    },
    "kernelspec": {
      "name": "python3",
      "display_name": "Python 3"
    },
    "language_info": {
      "name": "python"
    }
  },
  "cells": [
    {
      "cell_type": "markdown",
      "metadata": {
        "id": "view-in-github",
        "colab_type": "text"
      },
      "source": [
        "<a href=\"https://colab.research.google.com/github/Pedro070703/TrabTitanic/blob/main/TrabTitanic.ipynb\" target=\"_parent\"><img src=\"https://colab.research.google.com/assets/colab-badge.svg\" alt=\"Open In Colab\"/></a>"
      ]
    },
    {
      "cell_type": "code",
      "execution_count": 1,
      "metadata": {
        "id": "GRynBLCxdcsV"
      },
      "outputs": [],
      "source": [
        "import pandas as pd\n",
        "import numpy as np\n",
        "import os\n",
        "import math\n",
        "import sklearn\n",
        "from scipy.stats import normaltest\n",
        "\n",
        "\n",
        "import seaborn as sns\n",
        "import matplotlib.pyplot as plt\n",
        "\n",
        "from scipy import stats\n",
        "\n",
        "\n",
        "\n",
        "import os\n",
        "for dirname, _, filenames in os.walk('/kaggle/input'):\n",
        "    for filename in filenames:\n",
        "        print(os.path.join(dirname, filename))"
      ]
    },
    {
      "cell_type": "code",
      "source": [
        "train = pd.read_csv('train.csv')\n",
        "test = pd.read_csv('test.csv')\n",
        "train.shape, test.shape"
      ],
      "metadata": {
        "colab": {
          "base_uri": "https://localhost:8080/"
        },
        "id": "HaCejAjqdmbX",
        "outputId": "3876c9ed-4f6c-49bc-d535-88c0dee23699"
      },
      "execution_count": 3,
      "outputs": [
        {
          "output_type": "execute_result",
          "data": {
            "text/plain": [
              "((891, 12), (418, 11))"
            ]
          },
          "metadata": {},
          "execution_count": 3
        }
      ]
    },
    {
      "cell_type": "code",
      "source": [
        "def show_countplot(column, figsize=(9, 6)):\n",
        "    plt.figure(figsize=figsize)\n",
        "    sns.countplot(x=column, data=df)\n",
        "    plt.show()\n",
        "\n",
        "def show_percentplot(column, figsize=(9, 6)):\n",
        "    counts = df[column].value_counts()\n",
        "    percentages = counts / counts.sum() * 100\n",
        "\n",
        "    fig, ax = plt.subplots(figsize=figsize)\n",
        "    sns.barplot(x=percentages.index, y=percentages.values, ax=ax)\n",
        "    ax.set_ylim([0, 100])\n",
        "    ax.set_yticks(np.linspace(0, 100, 11))\n",
        "    ax.yaxis.set_major_formatter(lambda y, _: '{:.0%}'.format(y/100))\n",
        "\n",
        "    plt.show()\n",
        "\n",
        "def show_catplot(column: str, targer: str, title: str = None, figsize = (9, 6)):\n",
        "    plt.figure(figsize=figsize)\n",
        "    sns.catplot(x=column, y=targer, data=df, kind=\"bar\")\n",
        "    plt.title(title)\n",
        "\n",
        "    plt.show()\n",
        "\n",
        "def show_histplot(column: str, bins: int = None, title: str = None, figsize = (9, 6)):\n",
        "    plt.figure(figsize=figsize)\n",
        "    sns.histplot(data=df, x=column, bins=bins, kde=True)\n",
        "    plt.title(title)\n",
        "    plt.xlabel(column)\n",
        "    plt.show()\n",
        "\n",
        "def show_kdeplot(column: str, title: str = None, figsize = (9, 6)):\n",
        "    plt.figure(figsize=figsize)\n",
        "    sns.kdeplot(data=df, x=column)\n",
        "    plt.title(title)\n",
        "    plt.show()\n",
        "\n",
        "def show_boxplot(column: str, title: str = None, figsize = (9, 6)):\n",
        "    plt.figure(figsize=figsize)\n",
        "    sns.boxplot(data=df, x=column)\n",
        "    plt.title(title)\n",
        "    plt.xlabel(column)\n",
        "    plt.show()"
      ],
      "metadata": {
        "id": "7okdXR48d6J6"
      },
      "execution_count": 4,
      "outputs": []
    },
    {
      "cell_type": "code",
      "source": [
        "df = train"
      ],
      "metadata": {
        "id": "U5PT7YjaeCWk"
      },
      "execution_count": 5,
      "outputs": []
    },
    {
      "cell_type": "code",
      "source": [
        "df.info()"
      ],
      "metadata": {
        "colab": {
          "base_uri": "https://localhost:8080/"
        },
        "id": "CSrRuMrfeXTF",
        "outputId": "5016a9f1-b97f-4eb8-ffb6-acd0c979c7aa"
      },
      "execution_count": 6,
      "outputs": [
        {
          "output_type": "stream",
          "name": "stdout",
          "text": [
            "<class 'pandas.core.frame.DataFrame'>\n",
            "RangeIndex: 891 entries, 0 to 890\n",
            "Data columns (total 12 columns):\n",
            " #   Column       Non-Null Count  Dtype  \n",
            "---  ------       --------------  -----  \n",
            " 0   PassengerId  891 non-null    int64  \n",
            " 1   Survived     891 non-null    int64  \n",
            " 2   Pclass       891 non-null    int64  \n",
            " 3   Name         891 non-null    object \n",
            " 4   Sex          891 non-null    object \n",
            " 5   Age          714 non-null    float64\n",
            " 6   SibSp        891 non-null    int64  \n",
            " 7   Parch        891 non-null    int64  \n",
            " 8   Ticket       891 non-null    object \n",
            " 9   Fare         891 non-null    float64\n",
            " 10  Cabin        204 non-null    object \n",
            " 11  Embarked     889 non-null    object \n",
            "dtypes: float64(2), int64(5), object(5)\n",
            "memory usage: 83.7+ KB\n"
          ]
        }
      ]
    },
    {
      "cell_type": "code",
      "source": [
        "test.info()"
      ],
      "metadata": {
        "colab": {
          "base_uri": "https://localhost:8080/"
        },
        "id": "IQZBfBcFeZxn",
        "outputId": "397cee45-8ccb-46d5-f12f-b6f3316d3e75"
      },
      "execution_count": 7,
      "outputs": [
        {
          "output_type": "stream",
          "name": "stdout",
          "text": [
            "<class 'pandas.core.frame.DataFrame'>\n",
            "RangeIndex: 418 entries, 0 to 417\n",
            "Data columns (total 11 columns):\n",
            " #   Column       Non-Null Count  Dtype  \n",
            "---  ------       --------------  -----  \n",
            " 0   PassengerId  418 non-null    int64  \n",
            " 1   Pclass       418 non-null    int64  \n",
            " 2   Name         418 non-null    object \n",
            " 3   Sex          418 non-null    object \n",
            " 4   Age          332 non-null    float64\n",
            " 5   SibSp        418 non-null    int64  \n",
            " 6   Parch        418 non-null    int64  \n",
            " 7   Ticket       418 non-null    object \n",
            " 8   Fare         417 non-null    float64\n",
            " 9   Cabin        91 non-null     object \n",
            " 10  Embarked     418 non-null    object \n",
            "dtypes: float64(2), int64(4), object(5)\n",
            "memory usage: 36.0+ KB\n"
          ]
        }
      ]
    },
    {
      "cell_type": "code",
      "source": [
        "mode_embarked = df['Embarked'].mode()[0]\n",
        "df['Embarked'] = df['Embarked'].fillna(mode_embarked)\n",
        "\n",
        "df.info()"
      ],
      "metadata": {
        "colab": {
          "base_uri": "https://localhost:8080/"
        },
        "id": "5CNUKvlVecZI",
        "outputId": "fdf96651-e0bf-4b6d-b80c-2f723d099c9b"
      },
      "execution_count": 8,
      "outputs": [
        {
          "output_type": "stream",
          "name": "stdout",
          "text": [
            "<class 'pandas.core.frame.DataFrame'>\n",
            "RangeIndex: 891 entries, 0 to 890\n",
            "Data columns (total 12 columns):\n",
            " #   Column       Non-Null Count  Dtype  \n",
            "---  ------       --------------  -----  \n",
            " 0   PassengerId  891 non-null    int64  \n",
            " 1   Survived     891 non-null    int64  \n",
            " 2   Pclass       891 non-null    int64  \n",
            " 3   Name         891 non-null    object \n",
            " 4   Sex          891 non-null    object \n",
            " 5   Age          714 non-null    float64\n",
            " 6   SibSp        891 non-null    int64  \n",
            " 7   Parch        891 non-null    int64  \n",
            " 8   Ticket       891 non-null    object \n",
            " 9   Fare         891 non-null    float64\n",
            " 10  Cabin        204 non-null    object \n",
            " 11  Embarked     891 non-null    object \n",
            "dtypes: float64(2), int64(5), object(5)\n",
            "memory usage: 83.7+ KB\n"
          ]
        }
      ]
    },
    {
      "cell_type": "code",
      "source": [
        "test.Fare = test.groupby(['Embarked', 'Pclass'])['Fare'].apply(lambda x: x.fillna(x.median()))\n",
        "test.info()"
      ],
      "metadata": {
        "colab": {
          "base_uri": "https://localhost:8080/"
        },
        "id": "sHj3qmUdeeft",
        "outputId": "1ccb6d80-69fb-4220-a855-ef610d6f1313"
      },
      "execution_count": 9,
      "outputs": [
        {
          "output_type": "stream",
          "name": "stdout",
          "text": [
            "<class 'pandas.core.frame.DataFrame'>\n",
            "RangeIndex: 418 entries, 0 to 417\n",
            "Data columns (total 11 columns):\n",
            " #   Column       Non-Null Count  Dtype  \n",
            "---  ------       --------------  -----  \n",
            " 0   PassengerId  418 non-null    int64  \n",
            " 1   Pclass       418 non-null    int64  \n",
            " 2   Name         418 non-null    object \n",
            " 3   Sex          418 non-null    object \n",
            " 4   Age          332 non-null    float64\n",
            " 5   SibSp        418 non-null    int64  \n",
            " 6   Parch        418 non-null    int64  \n",
            " 7   Ticket       418 non-null    object \n",
            " 8   Fare         418 non-null    float64\n",
            " 9   Cabin        91 non-null     object \n",
            " 10  Embarked     418 non-null    object \n",
            "dtypes: float64(2), int64(4), object(5)\n",
            "memory usage: 36.0+ KB\n"
          ]
        },
        {
          "output_type": "stream",
          "name": "stderr",
          "text": [
            "<ipython-input-9-5421c5d4bfad>:1: FutureWarning: Not prepending group keys to the result index of transform-like apply. In the future, the group keys will be included in the index, regardless of whether the applied function returns a like-indexed object.\n",
            "To preserve the previous behavior, use\n",
            "\n",
            "\t>>> .groupby(..., group_keys=False)\n",
            "\n",
            "To adopt the future behavior and silence this warning, use \n",
            "\n",
            "\t>>> .groupby(..., group_keys=True)\n",
            "  test.Fare = test.groupby(['Embarked', 'Pclass'])['Fare'].apply(lambda x: x.fillna(x.median()))\n"
          ]
        }
      ]
    },
    {
      "cell_type": "code",
      "source": [
        "def get_title(name):\n",
        "    index = name.index(',') + 1\n",
        "    return name[index:].split()[0][:-1]\n",
        "\n",
        "df['Title'] = df.Name.apply(get_title)\n",
        "test['Title'] = test.Name.apply(get_title)\n",
        "df.Title.value_counts()\n",
        "\n",
        "titleMap = {\n",
        "    'Col': 'Officer',\n",
        "    'Major': 'Officer',\n",
        "    'Mlle': 'Miss',\n",
        "    'Ms': 'Miss',\n",
        "    'Mme': 'Mrs',\n",
        "    'Dona': 'Mrs',\n",
        "    'th': 'Mrs',\n",
        "    'Don': 'Mr',\n",
        "    'Capt': 'Officer',\n",
        "    'Lady': 'Miss',\n",
        "    'Sir': 'Mr',\n",
        "    'Jonkheer': 'Mr'\n",
        "}\n",
        "\n",
        "df.Title = df.Title.replace(titleMap)\n",
        "df.Title = df.Title.astype('object')\n",
        "\n",
        "test.Title = test.Title.replace(titleMap)\n",
        "test.Title = test.Title.astype('object')\n",
        "df.Title.info()"
      ],
      "metadata": {
        "colab": {
          "base_uri": "https://localhost:8080/"
        },
        "id": "BOUyk1HjeenO",
        "outputId": "900c5b50-b7ce-4497-8ded-eb2bad112ad2"
      },
      "execution_count": 10,
      "outputs": [
        {
          "output_type": "stream",
          "name": "stdout",
          "text": [
            "<class 'pandas.core.series.Series'>\n",
            "RangeIndex: 891 entries, 0 to 890\n",
            "Series name: Title\n",
            "Non-Null Count  Dtype \n",
            "--------------  ----- \n",
            "891 non-null    object\n",
            "dtypes: object(1)\n",
            "memory usage: 7.1+ KB\n"
          ]
        }
      ]
    },
    {
      "cell_type": "code",
      "source": [
        "df['TicketFrequency'] = df.groupby('Ticket')['Ticket'].transform('count')"
      ],
      "metadata": {
        "id": "p2taVKKRem8m"
      },
      "execution_count": 11,
      "outputs": []
    },
    {
      "cell_type": "code",
      "source": [
        "def min_max_scale(x):\n",
        "    return (x - x.min()) / (x.max() - x.min()) * 100\n",
        "df['Fare_scaled'] = df.groupby('Embarked')['Fare'].transform(min_max_scale)\n",
        "test['Fare_scaled'] = test.groupby('Embarked')['Fare'].transform(min_max_scale)\n",
        "df['Fare_scaled'].describe()"
      ],
      "metadata": {
        "colab": {
          "base_uri": "https://localhost:8080/"
        },
        "id": "_VcwRWWHepHB",
        "outputId": "a1d6084c-2e90-41cd-8512-61fb3554100f"
      },
      "execution_count": 12,
      "outputs": [
        {
          "output_type": "execute_result",
          "data": {
            "text/plain": [
              "count    891.000000\n",
              "mean      10.262942\n",
              "std       14.559878\n",
              "min        0.000000\n",
              "25%        2.990342\n",
              "50%        4.942966\n",
              "75%       11.156119\n",
              "max      100.000000\n",
              "Name: Fare_scaled, dtype: float64"
            ]
          },
          "metadata": {},
          "execution_count": 12
        }
      ]
    },
    {
      "cell_type": "code",
      "source": [
        "plt.figure(figsize = (10,5))\n",
        "plt.title('나이',fontsize = 20)\n",
        "sns.stripplot(x = 'Survived', y = 'Fare_scaled', data = df, jitter = True)\n",
        "plt.xlabel('생존여부', fontsize = 20)\n",
        "plt.ylabel('나이', fontsize = 20)\n",
        "\n",
        "\n",
        "plt.show()"
      ],
      "metadata": {
        "colab": {
          "base_uri": "https://localhost:8080/",
          "height": 717
        },
        "id": "cYQ3yoV6eqVw",
        "outputId": "d14f7903-db0b-436d-c6c2-a1bc10e35191"
      },
      "execution_count": 13,
      "outputs": [
        {
          "output_type": "stream",
          "name": "stderr",
          "text": [
            "/usr/local/lib/python3.10/dist-packages/IPython/core/pylabtools.py:151: UserWarning: Glyph 45208 (\\N{HANGUL SYLLABLE NA}) missing from current font.\n",
            "  fig.canvas.print_figure(bytes_io, **kw)\n",
            "/usr/local/lib/python3.10/dist-packages/IPython/core/pylabtools.py:151: UserWarning: Glyph 51060 (\\N{HANGUL SYLLABLE I}) missing from current font.\n",
            "  fig.canvas.print_figure(bytes_io, **kw)\n",
            "/usr/local/lib/python3.10/dist-packages/IPython/core/pylabtools.py:151: UserWarning: Glyph 49373 (\\N{HANGUL SYLLABLE SAENG}) missing from current font.\n",
            "  fig.canvas.print_figure(bytes_io, **kw)\n",
            "/usr/local/lib/python3.10/dist-packages/IPython/core/pylabtools.py:151: UserWarning: Glyph 51316 (\\N{HANGUL SYLLABLE JON}) missing from current font.\n",
            "  fig.canvas.print_figure(bytes_io, **kw)\n",
            "/usr/local/lib/python3.10/dist-packages/IPython/core/pylabtools.py:151: UserWarning: Glyph 50668 (\\N{HANGUL SYLLABLE YEO}) missing from current font.\n",
            "  fig.canvas.print_figure(bytes_io, **kw)\n",
            "/usr/local/lib/python3.10/dist-packages/IPython/core/pylabtools.py:151: UserWarning: Glyph 48512 (\\N{HANGUL SYLLABLE BU}) missing from current font.\n",
            "  fig.canvas.print_figure(bytes_io, **kw)\n"
          ]
        },
        {
          "output_type": "display_data",
          "data": {
            "text/plain": [
              "<Figure size 1000x500 with 1 Axes>"
            ],
            "image/png": "[encoded data removed]"
          },
          "metadata": {}
        }
      ]
    },
    {
      "cell_type": "code",
      "source": [
        "def Fare_Categorize(fare):\n",
        "    if fare < 3:\n",
        "        return 1\n",
        "    elif fare < 6:\n",
        "        return 2\n",
        "    elif fare < 30:\n",
        "        return 3\n",
        "    else:\n",
        "        return 4\n",
        "df['fare_cate'] = df['Fare_scaled'].apply(Fare_Categorize)\n",
        "test['fare_cate'] = test['Fare_scaled'].apply(Fare_Categorize)\n",
        "show_catplot('fare_cate', 'Survived', 'Survival rate by Fare')"
      ],
      "metadata": {
        "colab": {
          "base_uri": "https://localhost:8080/",
          "height": 546
        },
        "id": "jAAT0iRRe4fO",
        "outputId": "2acacadb-3bf4-4116-ff9a-6605fc33ea4e"
      },
      "execution_count": 14,
      "outputs": [
        {
          "output_type": "display_data",
          "data": {
            "text/plain": [
              "<Figure size 900x600 with 0 Axes>"
            ]
          },
          "metadata": {}
        },
        {
          "output_type": "display_data",
          "data": {
            "text/plain": [
              "<Figure size 500x500 with 1 Axes>"
            ],
            "image/png": "[encoded data removed]"
          },
          "metadata": {}
        }
      ]
    },
    {
      "cell_type": "code",
      "source": [
        "corr_df = df.copy()\n",
        "for column in corr_df.columns:\n",
        "    if corr_df[column].dtype == 'object':\n",
        "        corr_df[column] = corr_df[column].astype('category').cat.codes\n",
        "\n",
        "corr_df.corr()['Cabin'].map(lambda x: abs(x)).sort_values(ascending=False)"
      ],
      "metadata": {
        "colab": {
          "base_uri": "https://localhost:8080/"
        },
        "id": "vWa4ZRgYe9RT",
        "outputId": "20ff4080-380b-41da-822d-51251a57f2bc"
      },
      "execution_count": 15,
      "outputs": [
        {
          "output_type": "execute_result",
          "data": {
            "text/plain": [
              "Cabin              1.000000\n",
              "Pclass             0.537419\n",
              "fare_cate          0.348329\n",
              "Fare_scaled        0.324458\n",
              "Fare               0.310987\n",
              "Survived           0.276235\n",
              "Ticket             0.176515\n",
              "Age                0.167432\n",
              "Sex                0.137704\n",
              "Embarked           0.070046\n",
              "Parch              0.033585\n",
              "SibSp              0.024829\n",
              "TicketFrequency    0.019349\n",
              "Title              0.012084\n",
              "Name               0.003122\n",
              "PassengerId        0.000637\n",
              "Name: Cabin, dtype: float64"
            ]
          },
          "metadata": {},
          "execution_count": 15
        }
      ]
    },
    {
      "cell_type": "code",
      "source": [
        "df['Deck'] = df['Cabin'].dropna().map(lambda cabin: cabin[0])\n",
        "test['Deck'] = test['Cabin'].dropna().map(lambda cabin: cabin[0])\n",
        "df['Deck']"
      ],
      "metadata": {
        "colab": {
          "base_uri": "https://localhost:8080/"
        },
        "id": "S8vH4l8Ve_hX",
        "outputId": "4279bbe9-124f-490b-8c19-7a31f136788b"
      },
      "execution_count": 16,
      "outputs": [
        {
          "output_type": "execute_result",
          "data": {
            "text/plain": [
              "0      NaN\n",
              "1        C\n",
              "2      NaN\n",
              "3        C\n",
              "4      NaN\n",
              "      ... \n",
              "886    NaN\n",
              "887      B\n",
              "888    NaN\n",
              "889      C\n",
              "890    NaN\n",
              "Name: Deck, Length: 891, dtype: object"
            ]
          },
          "metadata": {},
          "execution_count": 16
        }
      ]
    },
    {
      "cell_type": "code",
      "source": [
        "corr_df = df.copy()\n",
        "for column in corr_df.columns:\n",
        "    if corr_df[column].dtype == 'object':\n",
        "        corr_df[column] = corr_df[column].astype('category').cat.codes\n",
        "\n",
        "corr_df.corr()['Deck'].map(lambda x: abs(x)).sort_values(ascending=False)"
      ],
      "metadata": {
        "colab": {
          "base_uri": "https://localhost:8080/"
        },
        "id": "3d9lml_ufAVe",
        "outputId": "b5ee665e-2d7a-496f-8b9d-154fe5b4063d"
      },
      "execution_count": 17,
      "outputs": [
        {
          "output_type": "execute_result",
          "data": {
            "text/plain": [
              "Deck               1.000000\n",
              "Cabin              0.985656\n",
              "Pclass             0.570691\n",
              "fare_cate          0.365053\n",
              "Fare_scaled        0.344957\n",
              "Fare               0.337525\n",
              "Survived           0.287944\n",
              "Ticket             0.196462\n",
              "Age                0.179643\n",
              "Sex                0.143517\n",
              "Embarked           0.080523\n",
              "Parch              0.037621\n",
              "SibSp              0.031973\n",
              "Title              0.019526\n",
              "TicketFrequency    0.014937\n",
              "Name               0.001737\n",
              "PassengerId        0.000483\n",
              "Name: Deck, dtype: float64"
            ]
          },
          "metadata": {},
          "execution_count": 17
        }
      ]
    },
    {
      "cell_type": "code",
      "source": [
        "mode_Deck = df.loc[df[['Pclass', 'fare_cate', 'Deck']].notna().all(axis=1)]\n",
        "# ['Deck'].mode()[0]\n",
        "mode_Deck"
      ],
      "metadata": {
        "colab": {
          "base_uri": "https://localhost:8080/",
          "height": 1000
        },
        "id": "KyybwD5lfE_3",
        "outputId": "0c738fb2-cab7-4277-8fea-50089512d86e"
      },
      "execution_count": 18,
      "outputs": [
        {
          "output_type": "execute_result",
          "data": {
            "text/plain": [
              "     PassengerId  Survived  Pclass  \\\n",
              "1              2         1       1   \n",
              "3              4         1       1   \n",
              "6              7         0       1   \n",
              "10            11         1       3   \n",
              "11            12         1       1   \n",
              "..           ...       ...     ...   \n",
              "871          872         1       1   \n",
              "872          873         0       1   \n",
              "879          880         1       1   \n",
              "887          888         1       1   \n",
              "889          890         1       1   \n",
              "\n",
              "                                                  Name     Sex   Age  SibSp  \\\n",
              "1    Cumings, Mrs. John Bradley (Florence Briggs Th...  female  38.0      1   \n",
              "3         Futrelle, Mrs. Jacques Heath (Lily May Peel)  female  35.0      1   \n",
              "6                              McCarthy, Mr. Timothy J    male  54.0      0   \n",
              "10                     Sandstrom, Miss. Marguerite Rut  female   4.0      1   \n",
              "11                            Bonnell, Miss. Elizabeth  female  58.0      0   \n",
              "..                                                 ...     ...   ...    ...   \n",
              "871   Beckwith, Mrs. Richard Leonard (Sallie Monypeny)  female  47.0      1   \n",
              "872                           Carlsson, Mr. Frans Olof    male  33.0      0   \n",
              "879      Potter, Mrs. Thomas Jr (Lily Alexenia Wilson)  female  56.0      0   \n",
              "887                       Graham, Miss. Margaret Edith  female  19.0      0   \n",
              "889                              Behr, Mr. Karl Howell    male  26.0      0   \n",
              "\n",
              "     Parch    Ticket     Fare        Cabin Embarked Title  TicketFrequency  \\\n",
              "1        0  PC 17599  71.2833          C85        C   Mrs                1   \n",
              "3        0    113803  53.1000         C123        S   Mrs                2   \n",
              "6        0     17463  51.8625          E46        S    Mr                1   \n",
              "10       1   PP 9549  16.7000           G6        S  Miss                2   \n",
              "11       0    113783  26.5500         C103        S  Miss                1   \n",
              "..     ...       ...      ...          ...      ...   ...              ...   \n",
              "871      1     11751  52.5542          D35        S   Mrs                2   \n",
              "872      0       695   5.0000  B51 B53 B55        S    Mr                1   \n",
              "879      1     11767  83.1583          C50        C   Mrs                2   \n",
              "887      0    112053  30.0000          B42        S  Miss                1   \n",
              "889      0    111369  30.0000         C148        C    Mr                1   \n",
              "\n",
              "     Fare_scaled  fare_cate Deck  \n",
              "1      13.234033          3    C  \n",
              "3      20.190114          3    C  \n",
              "6      19.719582          3    E  \n",
              "10      6.349810          3    G  \n",
              "11     10.095057          3    C  \n",
              "..           ...        ...  ...  \n",
              "871    19.982586          3    D  \n",
              "872     1.901141          1    B  \n",
              "879    15.570175          3    C  \n",
              "887    11.406844          3    B  \n",
              "889     5.112462          2    C  \n",
              "\n",
              "[204 rows x 17 columns]"
            ],
            "text/html": [
              "\n",
              "  <div id=\"df-3f103374-9bb1-4265-a633-ad023b8c15d2\">\n",
              "    <div class=\"colab-df-container\">\n",
              "      <div>\n",
              "<style scoped>\n",
              "    .dataframe tbody tr th:only-of-type {\n",
              "        vertical-align: middle;\n",
              "    }\n",
              "\n",
              "    .dataframe tbody tr th {\n",
              "        vertical-align: top;\n",
              "    }\n",
              "\n",
              "    .dataframe thead th {\n",
              "        text-align: right;\n",
              "    }\n",
              "</style>\n",
              "<table border=\"1\" class=\"dataframe\">\n",
              "  <thead>\n",
              "    <tr style=\"text-align: right;\">\n",
              "      <th></th>\n",
              "      <th>PassengerId</th>\n",
              "      <th>Survived</th>\n",
              "      <th>Pclass</th>\n",
              "      <th>Name</th>\n",
              "      <th>Sex</th>\n",
              "      <th>Age</th>\n",
              "      <th>SibSp</th>\n",
              "      <th>Parch</th>\n",
              "      <th>Ticket</th>\n",
              "      <th>Fare</th>\n",
              "      <th>Cabin</th>\n",
              "      <th>Embarked</th>\n",
              "      <th>Title</th>\n",
              "      <th>TicketFrequency</th>\n",
              "      <th>Fare_scaled</th>\n",
              "      <th>fare_cate</th>\n",
              "      <th>Deck</th>\n",
              "    </tr>\n",
              "  </thead>\n",
              "  <tbody>\n",
              "    <tr>\n",
              "      <th>1</th>\n",
              "      <td>2</td>\n",
              "      <td>1</td>\n",
              "      <td>1</td>\n",
              "      <td>Cumings, Mrs. John Bradley (Florence Briggs Th...</td>\n",
              "      <td>female</td>\n",
              "      <td>38.0</td>\n",
              "      <td>1</td>\n",
              "      <td>0</td>\n",
              "      <td>PC 17599</td>\n",
              "      <td>71.2833</td>\n",
              "      <td>C85</td>\n",
              "      <td>C</td>\n",
              "      <td>Mrs</td>\n",
              "      <td>1</td>\n",
              "      <td>13.234033</td>\n",
              "      <td>3</td>\n",
              "      <td>C</td>\n",
              "    </tr>\n",
              "    <tr>\n",
              "      <th>3</th>\n",
              "      <td>4</td>\n",
              "      <td>1</td>\n",
              "      <td>1</td>\n",
              "      <td>Futrelle, Mrs. Jacques Heath (Lily May Peel)</td>\n",
              "      <td>female</td>\n",
              "      <td>35.0</td>\n",
              "      <td>1</td>\n",
              "      <td>0</td>\n",
              "      <td>113803</td>\n",
              "      <td>53.1000</td>\n",
              "      <td>C123</td>\n",
              "      <td>S</td>\n",
              "      <td>Mrs</td>\n",
              "      <td>2</td>\n",
              "      <td>20.190114</td>\n",
              "      <td>3</td>\n",
              "      <td>C</td>\n",
              "    </tr>\n",
              "    <tr>\n",
              "      <th>6</th>\n",
              "      <td>7</td>\n",
              "      <td>0</td>\n",
              "      <td>1</td>\n",
              "      <td>McCarthy, Mr. Timothy J</td>\n",
              "      <td>male</td>\n",
              "      <td>54.0</td>\n",
              "      <td>0</td>\n",
              "      <td>0</td>\n",
              "      <td>17463</td>\n",
              "      <td>51.8625</td>\n",
              "      <td>E46</td>\n",
              "      <td>S</td>\n",
              "      <td>Mr</td>\n",
              "      <td>1</td>\n",
              "      <td>19.719582</td>\n",
              "      <td>3</td>\n",
              "      <td>E</td>\n",
              "    </tr>\n",
              "    <tr>\n",
              "      <th>10</th>\n",
              "      <td>11</td>\n",
              "      <td>1</td>\n",
              "      <td>3</td>\n",
              "      <td>Sandstrom, Miss. Marguerite Rut</td>\n",
              "      <td>female</td>\n",
              "      <td>4.0</td>\n",
              "      <td>1</td>\n",
              "      <td>1</td>\n",
              "      <td>PP 9549</td>\n",
              "      <td>16.7000</td>\n",
              "      <td>G6</td>\n",
              "      <td>S</td>\n",
              "      <td>Miss</td>\n",
              "      <td>2</td>\n",
              "      <td>6.349810</td>\n",
              "      <td>3</td>\n",
              "      <td>G</td>\n",
              "    </tr>\n",
              "    <tr>\n",
              "      <th>11</th>\n",
              "      <td>12</td>\n",
              "      <td>1</td>\n",
              "      <td>1</td>\n",
              "      <td>Bonnell, Miss. Elizabeth</td>\n",
              "      <td>female</td>\n",
              "      <td>58.0</td>\n",
              "      <td>0</td>\n",
              "      <td>0</td>\n",
              "      <td>113783</td>\n",
              "      <td>26.5500</td>\n",
              "      <td>C103</td>\n",
              "      <td>S</td>\n",
              "      <td>Miss</td>\n",
              "      <td>1</td>\n",
              "      <td>10.095057</td>\n",
              "      <td>3</td>\n",
              "      <td>C</td>\n",
              "    </tr>\n",
              "    <tr>\n",
              "      <th>...</th>\n",
              "      <td>...</td>\n",
              "      <td>...</td>\n",
              "      <td>...</td>\n",
              "      <td>...</td>\n",
              "      <td>...</td>\n",
              "      <td>...</td>\n",
              "      <td>...</td>\n",
              "      <td>...</td>\n",
              "      <td>...</td>\n",
              "      <td>...</td>\n",
              "      <td>...</td>\n",
              "      <td>...</td>\n",
              "      <td>...</td>\n",
              "      <td>...</td>\n",
              "      <td>...</td>\n",
              "      <td>...</td>\n",
              "      <td>...</td>\n",
              "    </tr>\n",
              "    <tr>\n",
              "      <th>871</th>\n",
              "      <td>872</td>\n",
              "      <td>1</td>\n",
              "      <td>1</td>\n",
              "      <td>Beckwith, Mrs. Richard Leonard (Sallie Monypeny)</td>\n",
              "      <td>female</td>\n",
              "      <td>47.0</td>\n",
              "      <td>1</td>\n",
              "      <td>1</td>\n",
              "      <td>11751</td>\n",
              "      <td>52.5542</td>\n",
              "      <td>D35</td>\n",
              "      <td>S</td>\n",
              "      <td>Mrs</td>\n",
              "      <td>2</td>\n",
              "      <td>19.982586</td>\n",
              "      <td>3</td>\n",
              "      <td>D</td>\n",
              "    </tr>\n",
              "    <tr>\n",
              "      <th>872</th>\n",
              "      <td>873</td>\n",
              "      <td>0</td>\n",
              "      <td>1</td>\n",
              "      <td>Carlsson, Mr. Frans Olof</td>\n",
              "      <td>male</td>\n",
              "      <td>33.0</td>\n",
              "      <td>0</td>\n",
              "      <td>0</td>\n",
              "      <td>695</td>\n",
              "      <td>5.0000</td>\n",
              "      <td>B51 B53 B55</td>\n",
              "      <td>S</td>\n",
              "      <td>Mr</td>\n",
              "      <td>1</td>\n",
              "      <td>1.901141</td>\n",
              "      <td>1</td>\n",
              "      <td>B</td>\n",
              "    </tr>\n",
              "    <tr>\n",
              "      <th>879</th>\n",
              "      <td>880</td>\n",
              "      <td>1</td>\n",
              "      <td>1</td>\n",
              "      <td>Potter, Mrs. Thomas Jr (Lily Alexenia Wilson)</td>\n",
              "      <td>female</td>\n",
              "      <td>56.0</td>\n",
              "      <td>0</td>\n",
              "      <td>1</td>\n",
              "      <td>11767</td>\n",
              "      <td>83.1583</td>\n",
              "      <td>C50</td>\n",
              "      <td>C</td>\n",
              "      <td>Mrs</td>\n",
              "      <td>2</td>\n",
              "      <td>15.570175</td>\n",
              "      <td>3</td>\n",
              "      <td>C</td>\n",
              "    </tr>\n",
              "    <tr>\n",
              "      <th>887</th>\n",
              "      <td>888</td>\n",
              "      <td>1</td>\n",
              "      <td>1</td>\n",
              "      <td>Graham, Miss. Margaret Edith</td>\n",
              "      <td>female</td>\n",
              "      <td>19.0</td>\n",
              "      <td>0</td>\n",
              "      <td>0</td>\n",
              "      <td>112053</td>\n",
              "      <td>30.0000</td>\n",
              "      <td>B42</td>\n",
              "      <td>S</td>\n",
              "      <td>Miss</td>\n",
              "      <td>1</td>\n",
              "      <td>11.406844</td>\n",
              "      <td>3</td>\n",
              "      <td>B</td>\n",
              "    </tr>\n",
              "    <tr>\n",
              "      <th>889</th>\n",
              "      <td>890</td>\n",
              "      <td>1</td>\n",
              "      <td>1</td>\n",
              "      <td>Behr, Mr. Karl Howell</td>\n",
              "      <td>male</td>\n",
              "      <td>26.0</td>\n",
              "      <td>0</td>\n",
              "      <td>0</td>\n",
              "      <td>111369</td>\n",
              "      <td>30.0000</td>\n",
              "      <td>C148</td>\n",
              "      <td>C</td>\n",
              "      <td>Mr</td>\n",
              "      <td>1</td>\n",
              "      <td>5.112462</td>\n",
              "      <td>2</td>\n",
              "      <td>C</td>\n",
              "    </tr>\n",
              "  </tbody>\n",
              "</table>\n",
              "<p>204 rows × 17 columns</p>\n",
              "</div>\n",
              "      <button class=\"colab-df-convert\" onclick=\"convertToInteractive('df-3f103374-9bb1-4265-a633-ad023b8c15d2')\"\n",
              "              title=\"Convert this dataframe to an interactive table.\"\n",
              "              style=\"display:none;\">\n",
              "        \n",
              "  <svg xmlns=\"http://www.w3.org/2000/svg\" height=\"24px\"viewBox=\"0 0 24 24\"\n",
              "       width=\"24px\">\n",
              "    <path d=\"M0 0h24v24H0V0z\" fill=\"none\"/>\n",
              "    <path d=\"M18.56 5.44l.94 2.06.94-2.06 2.06-.94-2.06-.94-.94-2.06-.94 2.06-2.06.94zm-11 1L8.5 8.5l.94-2.06 2.06-.94-2.06-.94L8.5 2.5l-.94 2.06-2.06.94zm10 10l.94 2.06.94-2.06 2.06-.94-2.06-.94-.94-2.06-.94 2.06-2.06.94z\"/><path d=\"M17.41 7.96l-1.37-1.37c-.4-.4-.92-.59-1.43-.59-.52 0-1.04.2-1.43.59L10.3 9.45l-7.72 7.72c-.78.78-.78 2.05 0 2.83L4 21.41c.39.39.9.59 1.41.59.51 0 1.02-.2 1.41-.59l7.78-7.78 2.81-2.81c.8-.78.8-2.07 0-2.86zM5.41 20L4 18.59l7.72-7.72 1.47 1.35L5.41 20z\"/>\n",
              "  </svg>\n",
              "      </button>\n",
              "      \n",
              "  <style>\n",
              "    .colab-df-container {\n",
              "      display:flex;\n",
              "      flex-wrap:wrap;\n",
              "      gap: 12px;\n",
              "    }\n",
              "\n",
              "    .colab-df-convert {\n",
              "      background-color: #E8F0FE;\n",
              "      border: none;\n",
              "      border-radius: 50%;\n",
              "      cursor: pointer;\n",
              "      display: none;\n",
              "      fill: #1967D2;\n",
              "      height: 32px;\n",
              "      padding: 0 0 0 0;\n",
              "      width: 32px;\n",
              "    }\n",
              "\n",
              "    .colab-df-convert:hover {\n",
              "      background-color: #E2EBFA;\n",
              "      box-shadow: 0px 1px 2px rgba(60, 64, 67, 0.3), 0px 1px 3px 1px rgba(60, 64, 67, 0.15);\n",
              "      fill: #174EA6;\n",
              "    }\n",
              "\n",
              "    [theme=dark] .colab-df-convert {\n",
              "      background-color: #3B4455;\n",
              "      fill: #D2E3FC;\n",
              "    }\n",
              "\n",
              "    [theme=dark] .colab-df-convert:hover {\n",
              "      background-color: #434B5C;\n",
              "      box-shadow: 0px 1px 3px 1px rgba(0, 0, 0, 0.15);\n",
              "      filter: drop-shadow(0px 1px 2px rgba(0, 0, 0, 0.3));\n",
              "      fill: #FFFFFF;\n",
              "    }\n",
              "  </style>\n",
              "\n",
              "      <script>\n",
              "        const buttonEl =\n",
              "          document.querySelector('#df-3f103374-9bb1-4265-a633-ad023b8c15d2 button.colab-df-convert');\n",
              "        buttonEl.style.display =\n",
              "          google.colab.kernel.accessAllowed ? 'block' : 'none';\n",
              "\n",
              "        async function convertToInteractive(key) {\n",
              "          const element = document.querySelector('#df-3f103374-9bb1-4265-a633-ad023b8c15d2');\n",
              "          const dataTable =\n",
              "            await google.colab.kernel.invokeFunction('convertToInteractive',\n",
              "                                                     [key], {});\n",
              "          if (!dataTable) return;\n",
              "\n",
              "          const docLinkHtml = 'Like what you see? Visit the ' +\n",
              "            '<a target=\"_blank\" href=https://colab.research.google.com/notebooks/data_table.ipynb>data table notebook</a>'\n",
              "            + ' to learn more about interactive tables.';\n",
              "          element.innerHTML = '';\n",
              "          dataTable['output_type'] = 'display_data';\n",
              "          await google.colab.output.renderOutput(dataTable, element);\n",
              "          const docLink = document.createElement('div');\n",
              "          docLink.innerHTML = docLinkHtml;\n",
              "          element.appendChild(docLink);\n",
              "        }\n",
              "      </script>\n",
              "    </div>\n",
              "  </div>\n",
              "  "
            ]
          },
          "metadata": {},
          "execution_count": 18
        }
      ]
    },
    {
      "cell_type": "code",
      "source": [
        "mode_Deck = mode_Deck.groupby(['Pclass', 'fare_cate'])['Deck'].apply(lambda x: x.mode()[0]).reset_index()\n",
        "mode_Deck = mode_Deck[['Pclass', 'fare_cate', 'Deck']]\n",
        "mode_Deck"
      ],
      "metadata": {
        "colab": {
          "base_uri": "https://localhost:8080/",
          "height": 363
        },
        "id": "CEHT2l68fHvS",
        "outputId": "c8b28a0f-7299-48f2-cfce-776e6aef3848"
      },
      "execution_count": 19,
      "outputs": [
        {
          "output_type": "execute_result",
          "data": {
            "text/plain": [
              "   Pclass  fare_cate Deck\n",
              "0       1          1    B\n",
              "1       1          2    C\n",
              "2       1          3    C\n",
              "3       1          4    C\n",
              "4       2          1    D\n",
              "5       2          2    E\n",
              "6       2          3    F\n",
              "7       3          1    F\n",
              "8       3          2    E\n",
              "9       3          3    G"
            ],
            "text/html": [
              "\n",
              "  <div id=\"df-e7263e62-99ec-4236-b4a0-fefdcace9934\">\n",
              "    <div class=\"colab-df-container\">\n",
              "      <div>\n",
              "<style scoped>\n",
              "    .dataframe tbody tr th:only-of-type {\n",
              "        vertical-align: middle;\n",
              "    }\n",
              "\n",
              "    .dataframe tbody tr th {\n",
              "        vertical-align: top;\n",
              "    }\n",
              "\n",
              "    .dataframe thead th {\n",
              "        text-align: right;\n",
              "    }\n",
              "</style>\n",
              "<table border=\"1\" class=\"dataframe\">\n",
              "  <thead>\n",
              "    <tr style=\"text-align: right;\">\n",
              "      <th></th>\n",
              "      <th>Pclass</th>\n",
              "      <th>fare_cate</th>\n",
              "      <th>Deck</th>\n",
              "    </tr>\n",
              "  </thead>\n",
              "  <tbody>\n",
              "    <tr>\n",
              "      <th>0</th>\n",
              "      <td>1</td>\n",
              "      <td>1</td>\n",
              "      <td>B</td>\n",
              "    </tr>\n",
              "    <tr>\n",
              "      <th>1</th>\n",
              "      <td>1</td>\n",
              "      <td>2</td>\n",
              "      <td>C</td>\n",
              "    </tr>\n",
              "    <tr>\n",
              "      <th>2</th>\n",
              "      <td>1</td>\n",
              "      <td>3</td>\n",
              "      <td>C</td>\n",
              "    </tr>\n",
              "    <tr>\n",
              "      <th>3</th>\n",
              "      <td>1</td>\n",
              "      <td>4</td>\n",
              "      <td>C</td>\n",
              "    </tr>\n",
              "    <tr>\n",
              "      <th>4</th>\n",
              "      <td>2</td>\n",
              "      <td>1</td>\n",
              "      <td>D</td>\n",
              "    </tr>\n",
              "    <tr>\n",
              "      <th>5</th>\n",
              "      <td>2</td>\n",
              "      <td>2</td>\n",
              "      <td>E</td>\n",
              "    </tr>\n",
              "    <tr>\n",
              "      <th>6</th>\n",
              "      <td>2</td>\n",
              "      <td>3</td>\n",
              "      <td>F</td>\n",
              "    </tr>\n",
              "    <tr>\n",
              "      <th>7</th>\n",
              "      <td>3</td>\n",
              "      <td>1</td>\n",
              "      <td>F</td>\n",
              "    </tr>\n",
              "    <tr>\n",
              "      <th>8</th>\n",
              "      <td>3</td>\n",
              "      <td>2</td>\n",
              "      <td>E</td>\n",
              "    </tr>\n",
              "    <tr>\n",
              "      <th>9</th>\n",
              "      <td>3</td>\n",
              "      <td>3</td>\n",
              "      <td>G</td>\n",
              "    </tr>\n",
              "  </tbody>\n",
              "</table>\n",
              "</div>\n",
              "      <button class=\"colab-df-convert\" onclick=\"convertToInteractive('df-e7263e62-99ec-4236-b4a0-fefdcace9934')\"\n",
              "              title=\"Convert this dataframe to an interactive table.\"\n",
              "              style=\"display:none;\">\n",
              "        \n",
              "  <svg xmlns=\"http://www.w3.org/2000/svg\" height=\"24px\"viewBox=\"0 0 24 24\"\n",
              "       width=\"24px\">\n",
              "    <path d=\"M0 0h24v24H0V0z\" fill=\"none\"/>\n",
              "    <path d=\"M18.56 5.44l.94 2.06.94-2.06 2.06-.94-2.06-.94-.94-2.06-.94 2.06-2.06.94zm-11 1L8.5 8.5l.94-2.06 2.06-.94-2.06-.94L8.5 2.5l-.94 2.06-2.06.94zm10 10l.94 2.06.94-2.06 2.06-.94-2.06-.94-.94-2.06-.94 2.06-2.06.94z\"/><path d=\"M17.41 7.96l-1.37-1.37c-.4-.4-.92-.59-1.43-.59-.52 0-1.04.2-1.43.59L10.3 9.45l-7.72 7.72c-.78.78-.78 2.05 0 2.83L4 21.41c.39.39.9.59 1.41.59.51 0 1.02-.2 1.41-.59l7.78-7.78 2.81-2.81c.8-.78.8-2.07 0-2.86zM5.41 20L4 18.59l7.72-7.72 1.47 1.35L5.41 20z\"/>\n",
              "  </svg>\n",
              "      </button>\n",
              "      \n",
              "  <style>\n",
              "    .colab-df-container {\n",
              "      display:flex;\n",
              "      flex-wrap:wrap;\n",
              "      gap: 12px;\n",
              "    }\n",
              "\n",
              "    .colab-df-convert {\n",
              "      background-color: #E8F0FE;\n",
              "      border: none;\n",
              "      border-radius: 50%;\n",
              "      cursor: pointer;\n",
              "      display: none;\n",
              "      fill: #1967D2;\n",
              "      height: 32px;\n",
              "      padding: 0 0 0 0;\n",
              "      width: 32px;\n",
              "    }\n",
              "\n",
              "    .colab-df-convert:hover {\n",
              "      background-color: #E2EBFA;\n",
              "      box-shadow: 0px 1px 2px rgba(60, 64, 67, 0.3), 0px 1px 3px 1px rgba(60, 64, 67, 0.15);\n",
              "      fill: #174EA6;\n",
              "    }\n",
              "\n",
              "    [theme=dark] .colab-df-convert {\n",
              "      background-color: #3B4455;\n",
              "      fill: #D2E3FC;\n",
              "    }\n",
              "\n",
              "    [theme=dark] .colab-df-convert:hover {\n",
              "      background-color: #434B5C;\n",
              "      box-shadow: 0px 1px 3px 1px rgba(0, 0, 0, 0.15);\n",
              "      filter: drop-shadow(0px 1px 2px rgba(0, 0, 0, 0.3));\n",
              "      fill: #FFFFFF;\n",
              "    }\n",
              "  </style>\n",
              "\n",
              "      <script>\n",
              "        const buttonEl =\n",
              "          document.querySelector('#df-e7263e62-99ec-4236-b4a0-fefdcace9934 button.colab-df-convert');\n",
              "        buttonEl.style.display =\n",
              "          google.colab.kernel.accessAllowed ? 'block' : 'none';\n",
              "\n",
              "        async function convertToInteractive(key) {\n",
              "          const element = document.querySelector('#df-e7263e62-99ec-4236-b4a0-fefdcace9934');\n",
              "          const dataTable =\n",
              "            await google.colab.kernel.invokeFunction('convertToInteractive',\n",
              "                                                     [key], {});\n",
              "          if (!dataTable) return;\n",
              "\n",
              "          const docLinkHtml = 'Like what you see? Visit the ' +\n",
              "            '<a target=\"_blank\" href=https://colab.research.google.com/notebooks/data_table.ipynb>data table notebook</a>'\n",
              "            + ' to learn more about interactive tables.';\n",
              "          element.innerHTML = '';\n",
              "          dataTable['output_type'] = 'display_data';\n",
              "          await google.colab.output.renderOutput(dataTable, element);\n",
              "          const docLink = document.createElement('div');\n",
              "          docLink.innerHTML = docLinkHtml;\n",
              "          element.appendChild(docLink);\n",
              "        }\n",
              "      </script>\n",
              "    </div>\n",
              "  </div>\n",
              "  "
            ]
          },
          "metadata": {},
          "execution_count": 19
        }
      ]
    },
    {
      "cell_type": "code",
      "source": [
        "missing_deck = df[df['Deck'].isnull()]\n",
        "missing_deck_test = test[test['Deck'].isnull()]\n",
        "filled_deck = pd.merge(missing_deck, mode_Deck, on=['Pclass', 'fare_cate'], how='left')\n",
        "\n",
        "\n",
        "df.loc[df['Deck'].isnull(), 'Deck'] = filled_deck['Deck_y']\n",
        "test.loc[test['Deck'].isnull(), 'Deck'] = filled_deck['Deck_y']\n",
        "show_catplot('Deck', 'Survived', 'Survival rate by Fare')"
      ],
      "metadata": {
        "colab": {
          "base_uri": "https://localhost:8080/",
          "height": 546
        },
        "id": "DoiCVodhfLdy",
        "outputId": "4d88e4ae-8e3f-47d1-a0ce-205ea54320d7"
      },
      "execution_count": 20,
      "outputs": [
        {
          "output_type": "display_data",
          "data": {
            "text/plain": [
              "<Figure size 900x600 with 0 Axes>"
            ]
          },
          "metadata": {}
        },
        {
          "output_type": "display_data",
          "data": {
            "text/plain": [
              "<Figure size 500x500 with 1 Axes>"
            ],
            "image/png": "[encoded data removed]"
          },
          "metadata": {}
        }
      ]
    },
    {
      "cell_type": "code",
      "source": [
        "def Cabin_Categorize(cabin):\n",
        "    if (cabin == \"E\") |(cabin == \"G\")|(cabin == \"F\")|(cabin == \"T\"):\n",
        "        return \"EDBT\"\n",
        "    elif (cabin == \"C\") |(cabin == \"A\"):\n",
        "        return \"CA\"\n",
        "    elif (cabin == \"D\") |(cabin == \"B\"):\n",
        "        return \"DB\"\n",
        "\n",
        "df['Cabin_Categorize'] = df['Deck'].apply(Cabin_Categorize)\n",
        "test['Cabin_Categorize'] = test['Deck'].apply(Cabin_Categorize)\n",
        "show_catplot('Cabin_Categorize', 'Survived', 'Survival rate by Fare')"
      ],
      "metadata": {
        "colab": {
          "base_uri": "https://localhost:8080/",
          "height": 546
        },
        "id": "PWwfJ0C7fPje",
        "outputId": "b601a65e-2b05-473c-8841-41201b211013"
      },
      "execution_count": 21,
      "outputs": [
        {
          "output_type": "display_data",
          "data": {
            "text/plain": [
              "<Figure size 900x600 with 0 Axes>"
            ]
          },
          "metadata": {}
        },
        {
          "output_type": "display_data",
          "data": {
            "text/plain": [
              "<Figure size 500x500 with 1 Axes>"
            ],
            "image/png": "[encoded data removed]"
          },
          "metadata": {}
        }
      ]
    },
    {
      "cell_type": "code",
      "source": [
        "def Fare_Categorize(fare):\n",
        "    if fare < 1:\n",
        "        return 1\n",
        "    elif fare < 2:\n",
        "        return 2\n",
        "    elif fare < 30:\n",
        "        return 3\n",
        "    else:\n",
        "        return 4\n",
        "df['fare_cate'] = df['Fare_scaled'].apply(Fare_Categorize)\n",
        "test['fare_cate'] = test['Fare_scaled'].apply(Fare_Categorize)\n",
        "show_catplot('fare_cate', 'Survived', 'Survival rate by Fare')"
      ],
      "metadata": {
        "colab": {
          "base_uri": "https://localhost:8080/",
          "height": 546
        },
        "id": "fzpD2htifTvA",
        "outputId": "b3633051-6228-4d50-8627-a5f91dc0686d"
      },
      "execution_count": 22,
      "outputs": [
        {
          "output_type": "display_data",
          "data": {
            "text/plain": [
              "<Figure size 900x600 with 0 Axes>"
            ]
          },
          "metadata": {}
        },
        {
          "output_type": "display_data",
          "data": {
            "text/plain": [
              "<Figure size 500x500 with 1 Axes>"
            ],
            "image/png": "[encoded data removed]"
          },
          "metadata": {}
        }
      ]
    },
    {
      "cell_type": "code",
      "source": [
        "def Age_Categorize(age):\n",
        "    if age < 16:\n",
        "        return 1\n",
        "    elif (age >= 16) & (age < 65):\n",
        "        return 2\n",
        "    else:\n",
        "        return 3\n",
        "df['Age2'] = df['Age']\n",
        "test['Age2'] = test['Age']\n",
        "df.Age2 = df.groupby(['Title', 'Pclass'])['Age2'].apply(lambda x: x.fillna(x.median()))\n",
        "test.Age2 = test.groupby(['Title', 'Pclass'])['Age2'].apply(lambda x: x.fillna(x.median()))\n",
        "df['age_cate'] = df['Age2'].apply(Age_Categorize)\n",
        "test['age_cate'] = test['Age2'].apply(Age_Categorize)"
      ],
      "metadata": {
        "colab": {
          "base_uri": "https://localhost:8080/"
        },
        "id": "BBDJFzozfffP",
        "outputId": "26cac0a3-c727-4daf-8062-a075d2588563"
      },
      "execution_count": 23,
      "outputs": [
        {
          "output_type": "stream",
          "name": "stderr",
          "text": [
            "<ipython-input-23-28269396e8ef>:10: FutureWarning: Not prepending group keys to the result index of transform-like apply. In the future, the group keys will be included in the index, regardless of whether the applied function returns a like-indexed object.\n",
            "To preserve the previous behavior, use\n",
            "\n",
            "\t>>> .groupby(..., group_keys=False)\n",
            "\n",
            "To adopt the future behavior and silence this warning, use \n",
            "\n",
            "\t>>> .groupby(..., group_keys=True)\n",
            "  df.Age2 = df.groupby(['Title', 'Pclass'])['Age2'].apply(lambda x: x.fillna(x.median()))\n",
            "<ipython-input-23-28269396e8ef>:11: FutureWarning: Not prepending group keys to the result index of transform-like apply. In the future, the group keys will be included in the index, regardless of whether the applied function returns a like-indexed object.\n",
            "To preserve the previous behavior, use\n",
            "\n",
            "\t>>> .groupby(..., group_keys=False)\n",
            "\n",
            "To adopt the future behavior and silence this warning, use \n",
            "\n",
            "\t>>> .groupby(..., group_keys=True)\n",
            "  test.Age2 = test.groupby(['Title', 'Pclass'])['Age2'].apply(lambda x: x.fillna(x.median()))\n"
          ]
        }
      ]
    },
    {
      "cell_type": "code",
      "source": [
        "show_catplot('age_cate', 'Survived', 'Survival rate by class')"
      ],
      "metadata": {
        "colab": {
          "base_uri": "https://localhost:8080/",
          "height": 546
        },
        "id": "__Q660X6fkl3",
        "outputId": "b926e709-4d84-4ea5-da94-4ee0ec04df01"
      },
      "execution_count": 24,
      "outputs": [
        {
          "output_type": "display_data",
          "data": {
            "text/plain": [
              "<Figure size 900x600 with 0 Axes>"
            ]
          },
          "metadata": {}
        },
        {
          "output_type": "display_data",
          "data": {
            "text/plain": [
              "<Figure size 500x500 with 1 Axes>"
            ],
            "image/png": "[encoded data removed]"
          },
          "metadata": {}
        }
      ]
    },
    {
      "cell_type": "code",
      "source": [
        "show_catplot('Cabin_Categorize', 'Survived', 'Survival rate by Fare')"
      ],
      "metadata": {
        "colab": {
          "base_uri": "https://localhost:8080/",
          "height": 546
        },
        "id": "1xERe0cEfnsj",
        "outputId": "f8130e35-ca2a-49e2-f84b-bb272311fb15"
      },
      "execution_count": 25,
      "outputs": [
        {
          "output_type": "display_data",
          "data": {
            "text/plain": [
              "<Figure size 900x600 with 0 Axes>"
            ]
          },
          "metadata": {}
        },
        {
          "output_type": "display_data",
          "data": {
            "text/plain": [
              "<Figure size 500x500 with 1 Axes>"
            ],
            "image/png": "[encoded data removed]"
          },
          "metadata": {}
        }
      ]
    },
    {
      "cell_type": "code",
      "source": [
        "df.columns"
      ],
      "metadata": {
        "colab": {
          "base_uri": "https://localhost:8080/"
        },
        "id": "-uDIsUnyfq0-",
        "outputId": "315ff9ae-b8e5-483e-8873-c1475b68b506"
      },
      "execution_count": 26,
      "outputs": [
        {
          "output_type": "execute_result",
          "data": {
            "text/plain": [
              "Index(['PassengerId', 'Survived', 'Pclass', 'Name', 'Sex', 'Age', 'SibSp',\n",
              "       'Parch', 'Ticket', 'Fare', 'Cabin', 'Embarked', 'Title',\n",
              "       'TicketFrequency', 'Fare_scaled', 'fare_cate', 'Deck',\n",
              "       'Cabin_Categorize', 'Age2', 'age_cate'],\n",
              "      dtype='object')"
            ]
          },
          "metadata": {},
          "execution_count": 26
        }
      ]
    },
    {
      "cell_type": "code",
      "source": [
        "df.Pclass = df.Pclass.astype('int')\n",
        "show_countplot('Pclass')"
      ],
      "metadata": {
        "colab": {
          "base_uri": "https://localhost:8080/",
          "height": 542
        },
        "id": "mjaqOTUjfv5A",
        "outputId": "d11f4546-509d-49f9-f8d4-67a24e3ae132"
      },
      "execution_count": 27,
      "outputs": [
        {
          "output_type": "display_data",
          "data": {
            "text/plain": [
              "<Figure size 900x600 with 1 Axes>"
            ],
            "image/png": "[encoded data removed]"
          },
          "metadata": {}
        }
      ]
    },
    {
      "cell_type": "code",
      "source": [
        "show_percentplot('Pclass')"
      ],
      "metadata": {
        "colab": {
          "base_uri": "https://localhost:8080/",
          "height": 528
        },
        "id": "r8tb4OyzfyW5",
        "outputId": "1e2de504-d634-47fe-fffa-c5c4bd6446d2"
      },
      "execution_count": 28,
      "outputs": [
        {
          "output_type": "display_data",
          "data": {
            "text/plain": [
              "<Figure size 900x600 with 1 Axes>"
            ],
            "image/png": "[encoded data removed]"
          },
          "metadata": {}
        }
      ]
    },
    {
      "cell_type": "code",
      "source": [
        "df.groupby('Pclass')['Survived'].mean() * 100\n",
        "show_catplot('Pclass', 'Survived', 'Survival rate by class')"
      ],
      "metadata": {
        "colab": {
          "base_uri": "https://localhost:8080/",
          "height": 546
        },
        "id": "StyHXhlQf0mP",
        "outputId": "eacc85da-1240-4036-f753-2dfdea74a590"
      },
      "execution_count": 29,
      "outputs": [
        {
          "output_type": "display_data",
          "data": {
            "text/plain": [
              "<Figure size 900x600 with 0 Axes>"
            ]
          },
          "metadata": {}
        },
        {
          "output_type": "display_data",
          "data": {
            "text/plain": [
              "<Figure size 500x500 with 1 Axes>"
            ],
            "image/png": "[encoded data removed]"
          },
          "metadata": {}
        }
      ]
    },
    {
      "cell_type": "code",
      "source": [
        "df['Ticket_code'] = df[\"Ticket\"][0]\n",
        "\n",
        "\n",
        "for index, row in df.iterrows():\n",
        "    first_char = row['Ticket'][0]\n",
        "    if not first_char.isdigit():\n",
        "        df.at[index, 'Ticket_code'] = 's'\n",
        "    else:\n",
        "        df.at[index, 'Ticket_code'] = 'i'\n",
        "df['Ticket_code']\n",
        "show_catplot('Ticket_code', 'Survived', 'Survival rate by Title')"
      ],
      "metadata": {
        "colab": {
          "base_uri": "https://localhost:8080/",
          "height": 546
        },
        "id": "4O1FPU1mf4MX",
        "outputId": "bd9e707e-005e-48d2-9ba2-7a215fd696d1"
      },
      "execution_count": 30,
      "outputs": [
        {
          "output_type": "display_data",
          "data": {
            "text/plain": [
              "<Figure size 900x600 with 0 Axes>"
            ]
          },
          "metadata": {}
        },
        {
          "output_type": "display_data",
          "data": {
            "text/plain": [
              "<Figure size 500x500 with 1 Axes>"
            ],
            "image/png": "[encoded data removed]"
          },
          "metadata": {}
        }
      ]
    },
    {
      "cell_type": "code",
      "source": [
        "show_catplot('Title', 'Survived', 'Survival rate by Title')"
      ],
      "metadata": {
        "colab": {
          "base_uri": "https://localhost:8080/",
          "height": 546
        },
        "id": "0VfyhNaOf7W3",
        "outputId": "fa0ff62e-fe70-45a4-c392-f7da5bfdbcf8"
      },
      "execution_count": 31,
      "outputs": [
        {
          "output_type": "display_data",
          "data": {
            "text/plain": [
              "<Figure size 900x600 with 0 Axes>"
            ]
          },
          "metadata": {}
        },
        {
          "output_type": "display_data",
          "data": {
            "text/plain": [
              "<Figure size 500x500 with 1 Axes>"
            ],
            "image/png": "[encoded data removed]"
          },
          "metadata": {}
        }
      ]
    },
    {
      "cell_type": "code",
      "source": [
        "df"
      ],
      "metadata": {
        "colab": {
          "base_uri": "https://localhost:8080/",
          "height": 991
        },
        "id": "BCKZxbfof-WL",
        "outputId": "d2e9e884-3d68-45cf-a1cb-9e132ce526f7"
      },
      "execution_count": 32,
      "outputs": [
        {
          "output_type": "execute_result",
          "data": {
            "text/plain": [
              "     PassengerId  Survived  Pclass  \\\n",
              "0              1         0       3   \n",
              "1              2         1       1   \n",
              "2              3         1       3   \n",
              "3              4         1       1   \n",
              "4              5         0       3   \n",
              "..           ...       ...     ...   \n",
              "886          887         0       2   \n",
              "887          888         1       1   \n",
              "888          889         0       3   \n",
              "889          890         1       1   \n",
              "890          891         0       3   \n",
              "\n",
              "                                                  Name     Sex   Age  SibSp  \\\n",
              "0                              Braund, Mr. Owen Harris    male  22.0      1   \n",
              "1    Cumings, Mrs. John Bradley (Florence Briggs Th...  female  38.0      1   \n",
              "2                               Heikkinen, Miss. Laina  female  26.0      0   \n",
              "3         Futrelle, Mrs. Jacques Heath (Lily May Peel)  female  35.0      1   \n",
              "4                             Allen, Mr. William Henry    male  35.0      0   \n",
              "..                                                 ...     ...   ...    ...   \n",
              "886                              Montvila, Rev. Juozas    male  27.0      0   \n",
              "887                       Graham, Miss. Margaret Edith  female  19.0      0   \n",
              "888           Johnston, Miss. Catherine Helen \"Carrie\"  female   NaN      1   \n",
              "889                              Behr, Mr. Karl Howell    male  26.0      0   \n",
              "890                                Dooley, Mr. Patrick    male  32.0      0   \n",
              "\n",
              "     Parch            Ticket     Fare  ... Embarked Title TicketFrequency  \\\n",
              "0        0         A/5 21171   7.2500  ...        S    Mr               1   \n",
              "1        0          PC 17599  71.2833  ...        C   Mrs               1   \n",
              "2        0  STON/O2. 3101282   7.9250  ...        S  Miss               1   \n",
              "3        0            113803  53.1000  ...        S   Mrs               2   \n",
              "4        0            373450   8.0500  ...        S    Mr               1   \n",
              "..     ...               ...      ...  ...      ...   ...             ...   \n",
              "886      0            211536  13.0000  ...        S   Rev               1   \n",
              "887      0            112053  30.0000  ...        S  Miss               1   \n",
              "888      2        W./C. 6607  23.4500  ...        S  Miss               2   \n",
              "889      0            111369  30.0000  ...        C    Mr               1   \n",
              "890      0            370376   7.7500  ...        Q    Mr               1   \n",
              "\n",
              "     Fare_scaled  fare_cate  Deck Cabin_Categorize  Age2  age_cate  \\\n",
              "0       2.756654          3     F             EDBT  22.0         2   \n",
              "1      13.234033          3     C               CA  38.0         2   \n",
              "2       3.013308          3     E             EDBT  26.0         2   \n",
              "3      20.190114          3     C               CA  35.0         2   \n",
              "4       3.060837          3     G             EDBT  35.0         2   \n",
              "..           ...        ...   ...              ...   ...       ...   \n",
              "886     4.942966          3   NaN             None  27.0         2   \n",
              "887    11.406844          3     B               DB  19.0         2   \n",
              "888     8.916350          3   NaN             None  18.0         2   \n",
              "889     5.112462          3     C               CA  26.0         2   \n",
              "890     1.201201          2   NaN             None  32.0         2   \n",
              "\n",
              "     Ticket_code  \n",
              "0              s  \n",
              "1              s  \n",
              "2              s  \n",
              "3              i  \n",
              "4              i  \n",
              "..           ...  \n",
              "886            i  \n",
              "887            i  \n",
              "888            s  \n",
              "889            i  \n",
              "890            i  \n",
              "\n",
              "[891 rows x 21 columns]"
            ],
            "text/html": [
              "\n",
              "  <div id=\"df-6bb0fe3d-374c-443e-8c4d-90e594c40161\">\n",
              "    <div class=\"colab-df-container\">\n",
              "      <div>\n",
              "<style scoped>\n",
              "    .dataframe tbody tr th:only-of-type {\n",
              "        vertical-align: middle;\n",
              "    }\n",
              "\n",
              "    .dataframe tbody tr th {\n",
              "        vertical-align: top;\n",
              "    }\n",
              "\n",
              "    .dataframe thead th {\n",
              "        text-align: right;\n",
              "    }\n",
              "</style>\n",
              "<table border=\"1\" class=\"dataframe\">\n",
              "  <thead>\n",
              "    <tr style=\"text-align: right;\">\n",
              "      <th></th>\n",
              "      <th>PassengerId</th>\n",
              "      <th>Survived</th>\n",
              "      <th>Pclass</th>\n",
              "      <th>Name</th>\n",
              "      <th>Sex</th>\n",
              "      <th>Age</th>\n",
              "      <th>SibSp</th>\n",
              "      <th>Parch</th>\n",
              "      <th>Ticket</th>\n",
              "      <th>Fare</th>\n",
              "      <th>...</th>\n",
              "      <th>Embarked</th>\n",
              "      <th>Title</th>\n",
              "      <th>TicketFrequency</th>\n",
              "      <th>Fare_scaled</th>\n",
              "      <th>fare_cate</th>\n",
              "      <th>Deck</th>\n",
              "      <th>Cabin_Categorize</th>\n",
              "      <th>Age2</th>\n",
              "      <th>age_cate</th>\n",
              "      <th>Ticket_code</th>\n",
              "    </tr>\n",
              "  </thead>\n",
              "  <tbody>\n",
              "    <tr>\n",
              "      <th>0</th>\n",
              "      <td>1</td>\n",
              "      <td>0</td>\n",
              "      <td>3</td>\n",
              "      <td>Braund, Mr. Owen Harris</td>\n",
              "      <td>male</td>\n",
              "      <td>22.0</td>\n",
              "      <td>1</td>\n",
              "      <td>0</td>\n",
              "      <td>A/5 21171</td>\n",
              "      <td>7.2500</td>\n",
              "      <td>...</td>\n",
              "      <td>S</td>\n",
              "      <td>Mr</td>\n",
              "      <td>1</td>\n",
              "      <td>2.756654</td>\n",
              "      <td>3</td>\n",
              "      <td>F</td>\n",
              "      <td>EDBT</td>\n",
              "      <td>22.0</td>\n",
              "      <td>2</td>\n",
              "      <td>s</td>\n",
              "    </tr>\n",
              "    <tr>\n",
              "      <th>1</th>\n",
              "      <td>2</td>\n",
              "      <td>1</td>\n",
              "      <td>1</td>\n",
              "      <td>Cumings, Mrs. John Bradley (Florence Briggs Th...</td>\n",
              "      <td>female</td>\n",
              "      <td>38.0</td>\n",
              "      <td>1</td>\n",
              "      <td>0</td>\n",
              "      <td>PC 17599</td>\n",
              "      <td>71.2833</td>\n",
              "      <td>...</td>\n",
              "      <td>C</td>\n",
              "      <td>Mrs</td>\n",
              "      <td>1</td>\n",
              "      <td>13.234033</td>\n",
              "      <td>3</td>\n",
              "      <td>C</td>\n",
              "      <td>CA</td>\n",
              "      <td>38.0</td>\n",
              "      <td>2</td>\n",
              "      <td>s</td>\n",
              "    </tr>\n",
              "    <tr>\n",
              "      <th>2</th>\n",
              "      <td>3</td>\n",
              "      <td>1</td>\n",
              "      <td>3</td>\n",
              "      <td>Heikkinen, Miss. Laina</td>\n",
              "      <td>female</td>\n",
              "      <td>26.0</td>\n",
              "      <td>0</td>\n",
              "      <td>0</td>\n",
              "      <td>STON/O2. 3101282</td>\n",
              "      <td>7.9250</td>\n",
              "      <td>...</td>\n",
              "      <td>S</td>\n",
              "      <td>Miss</td>\n",
              "      <td>1</td>\n",
              "      <td>3.013308</td>\n",
              "      <td>3</td>\n",
              "      <td>E</td>\n",
              "      <td>EDBT</td>\n",
              "      <td>26.0</td>\n",
              "      <td>2</td>\n",
              "      <td>s</td>\n",
              "    </tr>\n",
              "    <tr>\n",
              "      <th>3</th>\n",
              "      <td>4</td>\n",
              "      <td>1</td>\n",
              "      <td>1</td>\n",
              "      <td>Futrelle, Mrs. Jacques Heath (Lily May Peel)</td>\n",
              "      <td>female</td>\n",
              "      <td>35.0</td>\n",
              "      <td>1</td>\n",
              "      <td>0</td>\n",
              "      <td>113803</td>\n",
              "      <td>53.1000</td>\n",
              "      <td>...</td>\n",
              "      <td>S</td>\n",
              "      <td>Mrs</td>\n",
              "      <td>2</td>\n",
              "      <td>20.190114</td>\n",
              "      <td>3</td>\n",
              "      <td>C</td>\n",
              "      <td>CA</td>\n",
              "      <td>35.0</td>\n",
              "      <td>2</td>\n",
              "      <td>i</td>\n",
              "    </tr>\n",
              "    <tr>\n",
              "      <th>4</th>\n",
              "      <td>5</td>\n",
              "      <td>0</td>\n",
              "      <td>3</td>\n",
              "      <td>Allen, Mr. William Henry</td>\n",
              "      <td>male</td>\n",
              "      <td>35.0</td>\n",
              "      <td>0</td>\n",
              "      <td>0</td>\n",
              "      <td>373450</td>\n",
              "      <td>8.0500</td>\n",
              "      <td>...</td>\n",
              "      <td>S</td>\n",
              "      <td>Mr</td>\n",
              "      <td>1</td>\n",
              "      <td>3.060837</td>\n",
              "      <td>3</td>\n",
              "      <td>G</td>\n",
              "      <td>EDBT</td>\n",
              "      <td>35.0</td>\n",
              "      <td>2</td>\n",
              "      <td>i</td>\n",
              "    </tr>\n",
              "    <tr>\n",
              "      <th>...</th>\n",
              "      <td>...</td>\n",
              "      <td>...</td>\n",
              "      <td>...</td>\n",
              "      <td>...</td>\n",
              "      <td>...</td>\n",
              "      <td>...</td>\n",
              "      <td>...</td>\n",
              "      <td>...</td>\n",
              "      <td>...</td>\n",
              "      <td>...</td>\n",
              "      <td>...</td>\n",
              "      <td>...</td>\n",
              "      <td>...</td>\n",
              "      <td>...</td>\n",
              "      <td>...</td>\n",
              "      <td>...</td>\n",
              "      <td>...</td>\n",
              "      <td>...</td>\n",
              "      <td>...</td>\n",
              "      <td>...</td>\n",
              "      <td>...</td>\n",
              "    </tr>\n",
              "    <tr>\n",
              "      <th>886</th>\n",
              "      <td>887</td>\n",
              "      <td>0</td>\n",
              "      <td>2</td>\n",
              "      <td>Montvila, Rev. Juozas</td>\n",
              "      <td>male</td>\n",
              "      <td>27.0</td>\n",
              "      <td>0</td>\n",
              "      <td>0</td>\n",
              "      <td>211536</td>\n",
              "      <td>13.0000</td>\n",
              "      <td>...</td>\n",
              "      <td>S</td>\n",
              "      <td>Rev</td>\n",
              "      <td>1</td>\n",
              "      <td>4.942966</td>\n",
              "      <td>3</td>\n",
              "      <td>NaN</td>\n",
              "      <td>None</td>\n",
              "      <td>27.0</td>\n",
              "      <td>2</td>\n",
              "      <td>i</td>\n",
              "    </tr>\n",
              "    <tr>\n",
              "      <th>887</th>\n",
              "      <td>888</td>\n",
              "      <td>1</td>\n",
              "      <td>1</td>\n",
              "      <td>Graham, Miss. Margaret Edith</td>\n",
              "      <td>female</td>\n",
              "      <td>19.0</td>\n",
              "      <td>0</td>\n",
              "      <td>0</td>\n",
              "      <td>112053</td>\n",
              "      <td>30.0000</td>\n",
              "      <td>...</td>\n",
              "      <td>S</td>\n",
              "      <td>Miss</td>\n",
              "      <td>1</td>\n",
              "      <td>11.406844</td>\n",
              "      <td>3</td>\n",
              "      <td>B</td>\n",
              "      <td>DB</td>\n",
              "      <td>19.0</td>\n",
              "      <td>2</td>\n",
              "      <td>i</td>\n",
              "    </tr>\n",
              "    <tr>\n",
              "      <th>888</th>\n",
              "      <td>889</td>\n",
              "      <td>0</td>\n",
              "      <td>3</td>\n",
              "      <td>Johnston, Miss. Catherine Helen \"Carrie\"</td>\n",
              "      <td>female</td>\n",
              "      <td>NaN</td>\n",
              "      <td>1</td>\n",
              "      <td>2</td>\n",
              "      <td>W./C. 6607</td>\n",
              "      <td>23.4500</td>\n",
              "      <td>...</td>\n",
              "      <td>S</td>\n",
              "      <td>Miss</td>\n",
              "      <td>2</td>\n",
              "      <td>8.916350</td>\n",
              "      <td>3</td>\n",
              "      <td>NaN</td>\n",
              "      <td>None</td>\n",
              "      <td>18.0</td>\n",
              "      <td>2</td>\n",
              "      <td>s</td>\n",
              "    </tr>\n",
              "    <tr>\n",
              "      <th>889</th>\n",
              "      <td>890</td>\n",
              "      <td>1</td>\n",
              "      <td>1</td>\n",
              "      <td>Behr, Mr. Karl Howell</td>\n",
              "      <td>male</td>\n",
              "      <td>26.0</td>\n",
              "      <td>0</td>\n",
              "      <td>0</td>\n",
              "      <td>111369</td>\n",
              "      <td>30.0000</td>\n",
              "      <td>...</td>\n",
              "      <td>C</td>\n",
              "      <td>Mr</td>\n",
              "      <td>1</td>\n",
              "      <td>5.112462</td>\n",
              "      <td>3</td>\n",
              "      <td>C</td>\n",
              "      <td>CA</td>\n",
              "      <td>26.0</td>\n",
              "      <td>2</td>\n",
              "      <td>i</td>\n",
              "    </tr>\n",
              "    <tr>\n",
              "      <th>890</th>\n",
              "      <td>891</td>\n",
              "      <td>0</td>\n",
              "      <td>3</td>\n",
              "      <td>Dooley, Mr. Patrick</td>\n",
              "      <td>male</td>\n",
              "      <td>32.0</td>\n",
              "      <td>0</td>\n",
              "      <td>0</td>\n",
              "      <td>370376</td>\n",
              "      <td>7.7500</td>\n",
              "      <td>...</td>\n",
              "      <td>Q</td>\n",
              "      <td>Mr</td>\n",
              "      <td>1</td>\n",
              "      <td>1.201201</td>\n",
              "      <td>2</td>\n",
              "      <td>NaN</td>\n",
              "      <td>None</td>\n",
              "      <td>32.0</td>\n",
              "      <td>2</td>\n",
              "      <td>i</td>\n",
              "    </tr>\n",
              "  </tbody>\n",
              "</table>\n",
              "<p>891 rows × 21 columns</p>\n",
              "</div>\n",
              "      <button class=\"colab-df-convert\" onclick=\"convertToInteractive('df-6bb0fe3d-374c-443e-8c4d-90e594c40161')\"\n",
              "              title=\"Convert this dataframe to an interactive table.\"\n",
              "              style=\"display:none;\">\n",
              "        \n",
              "  <svg xmlns=\"http://www.w3.org/2000/svg\" height=\"24px\"viewBox=\"0 0 24 24\"\n",
              "       width=\"24px\">\n",
              "    <path d=\"M0 0h24v24H0V0z\" fill=\"none\"/>\n",
              "    <path d=\"M18.56 5.44l.94 2.06.94-2.06 2.06-.94-2.06-.94-.94-2.06-.94 2.06-2.06.94zm-11 1L8.5 8.5l.94-2.06 2.06-.94-2.06-.94L8.5 2.5l-.94 2.06-2.06.94zm10 10l.94 2.06.94-2.06 2.06-.94-2.06-.94-.94-2.06-.94 2.06-2.06.94z\"/><path d=\"M17.41 7.96l-1.37-1.37c-.4-.4-.92-.59-1.43-.59-.52 0-1.04.2-1.43.59L10.3 9.45l-7.72 7.72c-.78.78-.78 2.05 0 2.83L4 21.41c.39.39.9.59 1.41.59.51 0 1.02-.2 1.41-.59l7.78-7.78 2.81-2.81c.8-.78.8-2.07 0-2.86zM5.41 20L4 18.59l7.72-7.72 1.47 1.35L5.41 20z\"/>\n",
              "  </svg>\n",
              "      </button>\n",
              "      \n",
              "  <style>\n",
              "    .colab-df-container {\n",
              "      display:flex;\n",
              "      flex-wrap:wrap;\n",
              "      gap: 12px;\n",
              "    }\n",
              "\n",
              "    .colab-df-convert {\n",
              "      background-color: #E8F0FE;\n",
              "      border: none;\n",
              "      border-radius: 50%;\n",
              "      cursor: pointer;\n",
              "      display: none;\n",
              "      fill: #1967D2;\n",
              "      height: 32px;\n",
              "      padding: 0 0 0 0;\n",
              "      width: 32px;\n",
              "    }\n",
              "\n",
              "    .colab-df-convert:hover {\n",
              "      background-color: #E2EBFA;\n",
              "      box-shadow: 0px 1px 2px rgba(60, 64, 67, 0.3), 0px 1px 3px 1px rgba(60, 64, 67, 0.15);\n",
              "      fill: #174EA6;\n",
              "    }\n",
              "\n",
              "    [theme=dark] .colab-df-convert {\n",
              "      background-color: #3B4455;\n",
              "      fill: #D2E3FC;\n",
              "    }\n",
              "\n",
              "    [theme=dark] .colab-df-convert:hover {\n",
              "      background-color: #434B5C;\n",
              "      box-shadow: 0px 1px 3px 1px rgba(0, 0, 0, 0.15);\n",
              "      filter: drop-shadow(0px 1px 2px rgba(0, 0, 0, 0.3));\n",
              "      fill: #FFFFFF;\n",
              "    }\n",
              "  </style>\n",
              "\n",
              "      <script>\n",
              "        const buttonEl =\n",
              "          document.querySelector('#df-6bb0fe3d-374c-443e-8c4d-90e594c40161 button.colab-df-convert');\n",
              "        buttonEl.style.display =\n",
              "          google.colab.kernel.accessAllowed ? 'block' : 'none';\n",
              "\n",
              "        async function convertToInteractive(key) {\n",
              "          const element = document.querySelector('#df-6bb0fe3d-374c-443e-8c4d-90e594c40161');\n",
              "          const dataTable =\n",
              "            await google.colab.kernel.invokeFunction('convertToInteractive',\n",
              "                                                     [key], {});\n",
              "          if (!dataTable) return;\n",
              "\n",
              "          const docLinkHtml = 'Like what you see? Visit the ' +\n",
              "            '<a target=\"_blank\" href=https://colab.research.google.com/notebooks/data_table.ipynb>data table notebook</a>'\n",
              "            + ' to learn more about interactive tables.';\n",
              "          element.innerHTML = '';\n",
              "          dataTable['output_type'] = 'display_data';\n",
              "          await google.colab.output.renderOutput(dataTable, element);\n",
              "          const docLink = document.createElement('div');\n",
              "          docLink.innerHTML = docLinkHtml;\n",
              "          element.appendChild(docLink);\n",
              "        }\n",
              "      </script>\n",
              "    </div>\n",
              "  </div>\n",
              "  "
            ]
          },
          "metadata": {},
          "execution_count": 32
        }
      ]
    },
    {
      "cell_type": "code",
      "source": [
        "df.columns"
      ],
      "metadata": {
        "colab": {
          "base_uri": "https://localhost:8080/"
        },
        "id": "UL7djMVkgAfY",
        "outputId": "07a6a2a6-d9bd-4219-84d2-1b58d95806ec"
      },
      "execution_count": 33,
      "outputs": [
        {
          "output_type": "execute_result",
          "data": {
            "text/plain": [
              "Index(['PassengerId', 'Survived', 'Pclass', 'Name', 'Sex', 'Age', 'SibSp',\n",
              "       'Parch', 'Ticket', 'Fare', 'Cabin', 'Embarked', 'Title',\n",
              "       'TicketFrequency', 'Fare_scaled', 'fare_cate', 'Deck',\n",
              "       'Cabin_Categorize', 'Age2', 'age_cate', 'Ticket_code'],\n",
              "      dtype='object')"
            ]
          },
          "metadata": {},
          "execution_count": 33
        }
      ]
    },
    {
      "cell_type": "code",
      "source": [
        "import xgboost as xgb\n",
        "import lightgbm as lgb\n",
        "\n",
        "from sklearn.base import BaseEstimator\n",
        "from sklearn.model_selection import StratifiedKFold\n",
        "from sklearn.ensemble import RandomForestClassifier\n",
        "from sklearn.tree import DecisionTreeClassifier\n",
        "from lightgbm import LGBMClassifier\n",
        "from xgboost import XGBClassifier\n",
        "\n",
        "from sklearn.model_selection import cross_val_score\n",
        "from sklearn.model_selection import ShuffleSplit\n",
        "from sklearn.model_selection import GridSearchCV\n",
        "\n",
        "\n",
        "y = df[\"Survived\"]\n",
        "\n",
        "features = [\"Sex\", \"age_cate\", \"fare_cate\", 'Cabin_Categorize', 'SibSp', 'Pclass']\n",
        "X = pd.get_dummies(df[features], dummy_na=True)\n",
        "X_test = pd.get_dummies(test[features], dummy_na=True)\n",
        "\n",
        "model = lgb.LGBMClassifier(\n",
        "    n_estimators=75,\n",
        "    max_depth=3,\n",
        "    learning_rate=0.01,\n",
        "    subsample=0.8,\n",
        "    random_state=1\n",
        ")\n",
        "\n",
        "model.fit(X, y)\n",
        "predictions = model.predict(X_test)\n",
        "\n",
        "output = pd.DataFrame({'PassengerId': test.PassengerId, 'Survived': predictions})\n",
        "output.to_csv('submission.csv', index=False)\n",
        "print(\"Your submission was successfully saved!\")"
      ],
      "metadata": {
        "colab": {
          "base_uri": "https://localhost:8080/"
        },
        "id": "wKexY1R1gFIB",
        "outputId": "ca6ddb53-2168-4d0a-ac2d-7783a05fde56"
      },
      "execution_count": 35,
      "outputs": [
        {
          "output_type": "stream",
          "name": "stdout",
          "text": [
            "Your submission was successfully saved!\n"
          ]
        }
      ]
    },
    {
      "cell_type": "code",
      "source": [
        "df.columns"
      ],
      "metadata": {
        "colab": {
          "base_uri": "https://localhost:8080/"
        },
        "id": "t5HtU_L-gRoZ",
        "outputId": "0ea2f78d-3505-48ba-9334-5dd840dfd66a"
      },
      "execution_count": 36,
      "outputs": [
        {
          "output_type": "execute_result",
          "data": {
            "text/plain": [
              "Index(['PassengerId', 'Survived', 'Pclass', 'Name', 'Sex', 'Age', 'SibSp',\n",
              "       'Parch', 'Ticket', 'Fare', 'Cabin', 'Embarked', 'Title',\n",
              "       'TicketFrequency', 'Fare_scaled', 'fare_cate', 'Deck',\n",
              "       'Cabin_Categorize', 'Age2', 'age_cate', 'Ticket_code'],\n",
              "      dtype='object')"
            ]
          },
          "metadata": {},
          "execution_count": 36
        }
      ]
    },
    {
      "cell_type": "code",
      "source": [
        "import numpy as np\n",
        "import pandas as pd\n",
        "from sklearn.model_selection import train_test_split\n",
        "from keras.models import Sequential\n",
        "from keras.layers import Dense, LSTM\n",
        "from keras.callbacks import EarlyStopping\n",
        "\n",
        "\n",
        "y = df[\"Survived\"]\n",
        "features = [\"Sex\", \"age_cate\",\"fare_cate\",'Cabin_Categorize','SibSp',\n",
        "        'Pclass']\n",
        "X = pd.get_dummies(df[features], dummy_na=True)\n",
        "X_test = pd.get_dummies(test[features], dummy_na=True)\n",
        "\n",
        "\n",
        "\n",
        "X = np.array(X).reshape(X.shape[0], X.shape[1], 1)\n",
        "y = np.array(y)\n",
        "\n",
        "\n",
        "\n",
        "\n",
        "model = Sequential()\n",
        "model.add(LSTM(16, input_shape=(X.shape[1], X.shape[2])))\n",
        "model.add(Dense(1, activation='sigmoid'))\n",
        "model.compile(loss='binary_crossentropy', optimizer='adam', metrics=['accuracy'])\n",
        "\n",
        "\n",
        "model.fit(X, y, epochs=100, batch_size = 16, verbose = 1)\n",
        "\n",
        "\n",
        "X_test = np.array(X_test)\n",
        "X_test = np.reshape(X_test, (X_test.shape[0], X_test.shape[1], 1))\n",
        "y_pred = model.predict(X_test)\n",
        "y_pred = (y_pred > 0.5).astype(int)\n",
        "predictions = y_pred.tolist()\n",
        "\n",
        "output = pd.DataFrame({'PassengerId': test.PassengerId, 'Survived': predictions})\n",
        "output['Survived'] = output['Survived'].apply(lambda x: x[0] if isinstance(x, list) else x)\n",
        "output.to_csv('submission.csv', index=False)\n",
        "print(\"Your submission was successfully saved!\")"
      ],
      "metadata": {
        "colab": {
          "base_uri": "https://localhost:8080/"
        },
        "id": "dBKMXBwkgXim",
        "outputId": "5054de84-11a4-418a-bdba-d742079575b1"
      },
      "execution_count": 37,
      "outputs": [
        {
          "output_type": "stream",
          "name": "stdout",
          "text": [
            "Epoch 1/100\n",
            "56/56 [==============================] - 5s 7ms/step - loss: 0.6714 - accuracy: 0.6173\n",
            "Epoch 2/100\n",
            "56/56 [==============================] - 0s 7ms/step - loss: 0.6597 - accuracy: 0.6162\n",
            "Epoch 3/100\n",
            "56/56 [==============================] - 0s 6ms/step - loss: 0.6588 - accuracy: 0.6162\n",
            "Epoch 4/100\n",
            "56/56 [==============================] - 0s 7ms/step - loss: 0.6579 - accuracy: 0.6162\n",
            "Epoch 5/100\n",
            "56/56 [==============================] - 1s 14ms/step - loss: 0.6560 - accuracy: 0.6162\n",
            "Epoch 6/100\n",
            "56/56 [==============================] - 1s 14ms/step - loss: 0.6540 - accuracy: 0.6162\n",
            "Epoch 7/100\n",
            "56/56 [==============================] - 1s 10ms/step - loss: 0.6510 - accuracy: 0.6162\n",
            "Epoch 8/100\n",
            "56/56 [==============================] - 1s 9ms/step - loss: 0.6501 - accuracy: 0.6162\n",
            "Epoch 9/100\n",
            "56/56 [==============================] - 1s 9ms/step - loss: 0.6450 - accuracy: 0.6162\n",
            "Epoch 10/100\n",
            "56/56 [==============================] - 1s 10ms/step - loss: 0.6407 - accuracy: 0.6162\n",
            "Epoch 11/100\n",
            "56/56 [==============================] - 1s 10ms/step - loss: 0.6231 - accuracy: 0.6240\n",
            "Epoch 12/100\n",
            "56/56 [==============================] - 0s 7ms/step - loss: 0.6081 - accuracy: 0.6644\n",
            "Epoch 13/100\n",
            "56/56 [==============================] - 0s 6ms/step - loss: 0.5913 - accuracy: 0.6779\n",
            "Epoch 14/100\n",
            "56/56 [==============================] - 0s 6ms/step - loss: 0.5924 - accuracy: 0.6992\n",
            "Epoch 15/100\n",
            "56/56 [==============================] - 0s 6ms/step - loss: 0.5746 - accuracy: 0.6992\n",
            "Epoch 16/100\n",
            "56/56 [==============================] - 0s 6ms/step - loss: 0.5710 - accuracy: 0.7026\n",
            "Epoch 17/100\n",
            "56/56 [==============================] - 0s 6ms/step - loss: 0.5632 - accuracy: 0.7217\n",
            "Epoch 18/100\n",
            "56/56 [==============================] - 1s 9ms/step - loss: 0.5620 - accuracy: 0.7228\n",
            "Epoch 19/100\n",
            "56/56 [==============================] - 0s 8ms/step - loss: 0.5479 - accuracy: 0.7329\n",
            "Epoch 20/100\n",
            "56/56 [==============================] - 0s 6ms/step - loss: 0.5547 - accuracy: 0.7071\n",
            "Epoch 21/100\n",
            "56/56 [==============================] - 0s 6ms/step - loss: 0.5423 - accuracy: 0.7228\n",
            "Epoch 22/100\n",
            "56/56 [==============================] - 0s 6ms/step - loss: 0.5390 - accuracy: 0.7262\n",
            "Epoch 23/100\n",
            "56/56 [==============================] - 0s 7ms/step - loss: 0.5439 - accuracy: 0.7295\n",
            "Epoch 24/100\n",
            "56/56 [==============================] - 0s 9ms/step - loss: 0.5277 - accuracy: 0.7486\n",
            "Epoch 25/100\n",
            "56/56 [==============================] - 1s 10ms/step - loss: 0.5307 - accuracy: 0.7363\n",
            "Epoch 26/100\n",
            "56/56 [==============================] - 1s 10ms/step - loss: 0.5298 - accuracy: 0.7452\n",
            "Epoch 27/100\n",
            "56/56 [==============================] - 1s 9ms/step - loss: 0.5090 - accuracy: 0.7598\n",
            "Epoch 28/100\n",
            "56/56 [==============================] - 1s 9ms/step - loss: 0.5147 - accuracy: 0.7419\n",
            "Epoch 29/100\n",
            "56/56 [==============================] - 0s 6ms/step - loss: 0.4968 - accuracy: 0.7609\n",
            "Epoch 30/100\n",
            "56/56 [==============================] - 0s 7ms/step - loss: 0.4939 - accuracy: 0.7834\n",
            "Epoch 31/100\n",
            "56/56 [==============================] - 0s 6ms/step - loss: 0.4829 - accuracy: 0.7767\n",
            "Epoch 32/100\n",
            "56/56 [==============================] - 0s 6ms/step - loss: 0.4769 - accuracy: 0.7823\n",
            "Epoch 33/100\n",
            "56/56 [==============================] - 0s 6ms/step - loss: 0.4765 - accuracy: 0.7834\n",
            "Epoch 34/100\n",
            "56/56 [==============================] - 0s 6ms/step - loss: 0.4777 - accuracy: 0.7823\n",
            "Epoch 35/100\n",
            "56/56 [==============================] - 0s 6ms/step - loss: 0.4654 - accuracy: 0.7845\n",
            "Epoch 36/100\n",
            "56/56 [==============================] - 0s 6ms/step - loss: 0.4664 - accuracy: 0.7767\n",
            "Epoch 37/100\n",
            "56/56 [==============================] - 0s 6ms/step - loss: 0.4669 - accuracy: 0.7946\n",
            "Epoch 38/100\n",
            "56/56 [==============================] - 0s 6ms/step - loss: 0.4837 - accuracy: 0.7834\n",
            "Epoch 39/100\n",
            "56/56 [==============================] - 0s 6ms/step - loss: 0.4691 - accuracy: 0.7912\n",
            "Epoch 40/100\n",
            "56/56 [==============================] - 0s 6ms/step - loss: 0.4582 - accuracy: 0.7946\n",
            "Epoch 41/100\n",
            "56/56 [==============================] - 0s 6ms/step - loss: 0.4572 - accuracy: 0.7912\n",
            "Epoch 42/100\n",
            "56/56 [==============================] - 0s 7ms/step - loss: 0.4571 - accuracy: 0.7823\n",
            "Epoch 43/100\n",
            "56/56 [==============================] - 0s 7ms/step - loss: 0.4525 - accuracy: 0.7957\n",
            "Epoch 44/100\n",
            "56/56 [==============================] - 0s 6ms/step - loss: 0.4557 - accuracy: 0.7946\n",
            "Epoch 45/100\n",
            "56/56 [==============================] - 0s 6ms/step - loss: 0.4517 - accuracy: 0.7957\n",
            "Epoch 46/100\n",
            "56/56 [==============================] - 0s 7ms/step - loss: 0.4534 - accuracy: 0.8013\n",
            "Epoch 47/100\n",
            "56/56 [==============================] - 0s 6ms/step - loss: 0.4540 - accuracy: 0.7969\n",
            "Epoch 48/100\n",
            "56/56 [==============================] - 0s 6ms/step - loss: 0.4522 - accuracy: 0.8025\n",
            "Epoch 49/100\n",
            "56/56 [==============================] - 0s 7ms/step - loss: 0.4555 - accuracy: 0.8058\n",
            "Epoch 50/100\n",
            "56/56 [==============================] - 0s 6ms/step - loss: 0.4563 - accuracy: 0.7980\n",
            "Epoch 51/100\n",
            "56/56 [==============================] - 0s 6ms/step - loss: 0.4514 - accuracy: 0.8025\n",
            "Epoch 52/100\n",
            "56/56 [==============================] - 0s 7ms/step - loss: 0.4693 - accuracy: 0.7879\n",
            "Epoch 53/100\n",
            "56/56 [==============================] - 0s 7ms/step - loss: 0.4512 - accuracy: 0.8013\n",
            "Epoch 54/100\n",
            "56/56 [==============================] - 0s 6ms/step - loss: 0.4603 - accuracy: 0.8002\n",
            "Epoch 55/100\n",
            "56/56 [==============================] - 0s 7ms/step - loss: 0.4472 - accuracy: 0.7991\n",
            "Epoch 56/100\n",
            "56/56 [==============================] - 0s 9ms/step - loss: 0.4532 - accuracy: 0.8025\n",
            "Epoch 57/100\n",
            "56/56 [==============================] - 1s 9ms/step - loss: 0.4487 - accuracy: 0.8070\n",
            "Epoch 58/100\n",
            "56/56 [==============================] - 0s 9ms/step - loss: 0.4481 - accuracy: 0.8070\n",
            "Epoch 59/100\n",
            "56/56 [==============================] - 0s 9ms/step - loss: 0.4502 - accuracy: 0.8036\n",
            "Epoch 60/100\n",
            "56/56 [==============================] - 0s 8ms/step - loss: 0.4438 - accuracy: 0.8047\n",
            "Epoch 61/100\n",
            "56/56 [==============================] - 0s 8ms/step - loss: 0.4569 - accuracy: 0.7980\n",
            "Epoch 62/100\n",
            "56/56 [==============================] - 0s 7ms/step - loss: 0.4411 - accuracy: 0.8159\n",
            "Epoch 63/100\n",
            "56/56 [==============================] - 0s 6ms/step - loss: 0.4478 - accuracy: 0.8081\n",
            "Epoch 64/100\n",
            "56/56 [==============================] - 0s 6ms/step - loss: 0.4483 - accuracy: 0.8002\n",
            "Epoch 65/100\n",
            "56/56 [==============================] - 0s 7ms/step - loss: 0.4455 - accuracy: 0.8002\n",
            "Epoch 66/100\n",
            "56/56 [==============================] - 0s 6ms/step - loss: 0.4420 - accuracy: 0.8137\n",
            "Epoch 67/100\n",
            "56/56 [==============================] - 0s 6ms/step - loss: 0.4442 - accuracy: 0.8092\n",
            "Epoch 68/100\n",
            "56/56 [==============================] - 0s 6ms/step - loss: 0.4430 - accuracy: 0.8081\n",
            "Epoch 69/100\n",
            "56/56 [==============================] - 0s 7ms/step - loss: 0.4452 - accuracy: 0.8103\n",
            "Epoch 70/100\n",
            "56/56 [==============================] - 0s 7ms/step - loss: 0.4505 - accuracy: 0.7946\n",
            "Epoch 71/100\n",
            "56/56 [==============================] - 0s 6ms/step - loss: 0.4433 - accuracy: 0.8103\n",
            "Epoch 72/100\n",
            "56/56 [==============================] - 0s 6ms/step - loss: 0.4433 - accuracy: 0.8036\n",
            "Epoch 73/100\n",
            "56/56 [==============================] - 0s 6ms/step - loss: 0.4445 - accuracy: 0.8058\n",
            "Epoch 74/100\n",
            "56/56 [==============================] - 0s 7ms/step - loss: 0.4443 - accuracy: 0.8058\n",
            "Epoch 75/100\n",
            "56/56 [==============================] - 0s 6ms/step - loss: 0.4405 - accuracy: 0.8081\n",
            "Epoch 76/100\n",
            "56/56 [==============================] - 0s 6ms/step - loss: 0.4497 - accuracy: 0.8047\n",
            "Epoch 77/100\n",
            "56/56 [==============================] - 0s 6ms/step - loss: 0.4421 - accuracy: 0.8070\n",
            "Epoch 78/100\n",
            "56/56 [==============================] - 0s 6ms/step - loss: 0.4475 - accuracy: 0.8047\n",
            "Epoch 79/100\n",
            "56/56 [==============================] - 0s 6ms/step - loss: 0.4413 - accuracy: 0.8103\n",
            "Epoch 80/100\n",
            "56/56 [==============================] - 0s 6ms/step - loss: 0.4420 - accuracy: 0.8081\n",
            "Epoch 81/100\n",
            "56/56 [==============================] - 0s 6ms/step - loss: 0.4418 - accuracy: 0.8058\n",
            "Epoch 82/100\n",
            "56/56 [==============================] - 0s 7ms/step - loss: 0.4413 - accuracy: 0.8081\n",
            "Epoch 83/100\n",
            "56/56 [==============================] - 0s 6ms/step - loss: 0.4441 - accuracy: 0.8002\n",
            "Epoch 84/100\n",
            "56/56 [==============================] - 0s 7ms/step - loss: 0.4388 - accuracy: 0.8126\n",
            "Epoch 85/100\n",
            "56/56 [==============================] - 0s 6ms/step - loss: 0.4421 - accuracy: 0.8047\n",
            "Epoch 86/100\n",
            "56/56 [==============================] - 0s 6ms/step - loss: 0.4498 - accuracy: 0.7980\n",
            "Epoch 87/100\n",
            "56/56 [==============================] - 0s 6ms/step - loss: 0.4457 - accuracy: 0.8114\n",
            "Epoch 88/100\n",
            "56/56 [==============================] - 0s 7ms/step - loss: 0.4514 - accuracy: 0.7991\n",
            "Epoch 89/100\n",
            "56/56 [==============================] - 0s 7ms/step - loss: 0.4394 - accuracy: 0.8081\n",
            "Epoch 90/100\n",
            "56/56 [==============================] - 0s 9ms/step - loss: 0.4467 - accuracy: 0.8070\n",
            "Epoch 91/100\n",
            "56/56 [==============================] - 0s 8ms/step - loss: 0.4531 - accuracy: 0.7890\n",
            "Epoch 92/100\n",
            "56/56 [==============================] - 0s 8ms/step - loss: 0.4425 - accuracy: 0.7991\n",
            "Epoch 93/100\n",
            "56/56 [==============================] - 1s 11ms/step - loss: 0.4431 - accuracy: 0.8114\n",
            "Epoch 94/100\n",
            "56/56 [==============================] - 1s 10ms/step - loss: 0.4453 - accuracy: 0.8013\n",
            "Epoch 95/100\n",
            "56/56 [==============================] - 0s 7ms/step - loss: 0.4415 - accuracy: 0.8114\n",
            "Epoch 96/100\n",
            "56/56 [==============================] - 0s 6ms/step - loss: 0.4455 - accuracy: 0.8002\n",
            "Epoch 97/100\n",
            "56/56 [==============================] - 0s 7ms/step - loss: 0.4376 - accuracy: 0.8137\n",
            "Epoch 98/100\n",
            "56/56 [==============================] - 0s 6ms/step - loss: 0.4396 - accuracy: 0.8058\n",
            "Epoch 99/100\n",
            "56/56 [==============================] - 0s 6ms/step - loss: 0.4422 - accuracy: 0.8025\n",
            "Epoch 100/100\n",
            "56/56 [==============================] - 0s 7ms/step - loss: 0.4400 - accuracy: 0.8081\n",
            "14/14 [==============================] - 0s 2ms/step\n",
            "Your submission was successfully saved!\n"
          ]
        }
      ]
    },
    {
      "cell_type": "code",
      "source": [
        "output['Survived']"
      ],
      "metadata": {
        "colab": {
          "base_uri": "https://localhost:8080/"
        },
        "id": "J5I3Xz-Og8G4",
        "outputId": "fd29baee-d370-47aa-e278-9a1d22b65ded"
      },
      "execution_count": 38,
      "outputs": [
        {
          "output_type": "execute_result",
          "data": {
            "text/plain": [
              "0      0\n",
              "1      1\n",
              "2      0\n",
              "3      0\n",
              "4      1\n",
              "      ..\n",
              "413    0\n",
              "414    1\n",
              "415    0\n",
              "416    0\n",
              "417    0\n",
              "Name: Survived, Length: 418, dtype: int64"
            ]
          },
          "metadata": {},
          "execution_count": 38
        }
      ]
    }
  ]
}